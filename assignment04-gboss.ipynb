{
  "cells": [
    {
      "cell_type": "raw",
      "id": "a8cca8a6",
      "metadata": {
        "vscode": {
          "languageId": "raw"
        }
      },
      "source": [
        "---\n",
        "title: Assignment 04\n",
        "author:\n",
        "  - name: Gavin Boss\n",
        "    affiliations:\n",
        "      - id: bu\n",
        "        name: Boston University\n",
        "        city: Boston\n",
        "        state: MA\n",
        "number-sections: true\n",
        "date: '2025-10-04'\n",
        "date-modified: today\n",
        "date-format: long\n",
        "format:\n",
        "  html:\n",
        "    theme: cerulean\n",
        "    toc: true\n",
        "    toc-depth: 2\n",
        "\n",
        "execute:\n",
        "  echo: false\n",
        "  eval: True\n",
        "  freeze: auto\n",
        "---"
      ]
    },
    {
      "cell_type": "markdown",
      "id": "5b87455c",
      "metadata": {},
      "source": [
        "# Load the Dataset\n"
      ]
    },
    {
      "cell_type": "code",
      "execution_count": 1,
      "id": "91cd3da8",
      "metadata": {},
      "outputs": [
        {
          "name": "stderr",
          "output_type": "stream",
          "text": [
            "Setting default log level to \"WARN\".\n",
            "To adjust logging level use sc.setLogLevel(newLevel). For SparkR, use setLogLevel(newLevel).\n",
            "25/10/07 03:00:42 WARN NativeCodeLoader: Unable to load native-hadoop library for your platform... using builtin-java classes where applicable\n",
            "                                                                                \r"
          ]
        }
      ],
      "source": [
        "from pyspark.sql import SparkSession\n",
        "import pandas as pd\n",
        "import plotly.express as px\n",
        "import plotly.io as pio\n",
        "import numpy as np\n",
        "\n",
        "np.random.seed(42)\n",
        "\n",
        "pio.renderers.default = \"notebook+notebook_connected+vscode\"\n",
        "\n",
        "# Initialize Spark Session\n",
        "spark = SparkSession.builder.appName(\"LightcastData\").getOrCreate()\n",
        "\n",
        "# Load Data\n",
        "df = spark.read.option(\"header\", \"true\").option(\"inferSchema\", \"true\").option(\"multiLine\",\"true\").option(\"escape\", \"\\\"\").csv(\"data/lightcast_job_postings.csv\")\n",
        "\n",
        "# Show Schema and Sample Data\n",
        "# print(\"---This is Diagnostic check, No need to print it in the final doc---\")\n",
        "\n",
        "# df.printSchema() # comment this line when rendering the submission\n",
        "# df.show(5)"
      ]
    },
    {
      "cell_type": "markdown",
      "id": "225b52a5",
      "metadata": {},
      "source": [
        "\n",
        "# Feature Engineering"
      ]
    },
    {
      "cell_type": "code",
      "execution_count": 2,
      "id": "fb3e5360",
      "metadata": {},
      "outputs": [
        {
          "name": "stderr",
          "output_type": "stream",
          "text": [
            "                                                                                \r"
          ]
        },
        {
          "name": "stdout",
          "output_type": "stream",
          "text": [
            "+------+--------------------------------------+--------------------------------------+\n",
            "|SALARY|features                              |features_poly                         |\n",
            "+------+--------------------------------------+--------------------------------------+\n",
            "|192800|(9,[0,1,4,7],[6.0,55.0,1.0,1.0])      |(9,[0,1,4,7],[6.0,55.0,1.0,1.0])      |\n",
            "|125900|(9,[0,1,4,7],[12.0,18.0,1.0,1.0])     |(9,[0,1,4,7],[12.0,18.0,1.0,1.0])     |\n",
            "|118560|[5.0,20.0,0.0,1.0,0.0,1.0,0.0,1.0,0.0]|[5.0,20.0,0.0,1.0,0.0,1.0,0.0,1.0,0.0]|\n",
            "|192800|(9,[0,1,4,7],[6.0,55.0,1.0,1.0])      |(9,[0,1,4,7],[6.0,55.0,1.0,1.0])      |\n",
            "|116500|(9,[0,1,4,7],[12.0,16.0,1.0,1.0])     |(9,[0,1,4,7],[12.0,16.0,1.0,1.0])     |\n",
            "+------+--------------------------------------+--------------------------------------+\n",
            "only showing top 5 rows\n",
            "\n"
          ]
        },
        {
          "name": "stderr",
          "output_type": "stream",
          "text": [
            "25/10/07 03:01:18 WARN SparkStringUtils: Truncated the string representation of a plan since it was too large. This behavior can be adjusted by setting 'spark.sql.debug.maxToStringFields'.\n",
            "                                                                                \r"
          ]
        },
        {
          "name": "stdout",
          "output_type": "stream",
          "text": [
            "Training Data Count: 11604\n"
          ]
        },
        {
          "name": "stderr",
          "output_type": "stream",
          "text": [
            "[Stage 12:>                                                         (0 + 1) / 1]\r"
          ]
        },
        {
          "name": "stdout",
          "output_type": "stream",
          "text": [
            "Testing Data Count: 2812\n"
          ]
        },
        {
          "name": "stderr",
          "output_type": "stream",
          "text": [
            "                                                                                \r"
          ]
        }
      ],
      "source": [
        "#| eval: true\n",
        "#| echo: false\n",
        "#| fig-align: center\n",
        "\n",
        "from pyspark.sql.functions import col, pow\n",
        "from pyspark.ml.feature import StringIndexer, OneHotEncoder, VectorAssembler\n",
        "from pyspark.ml import Pipeline\n",
        "\n",
        "# Drop Missing Values in target variable and key features\n",
        "\n",
        "df = df.dropna(subset=[\n",
        "    \"SALARY\", \"MIN_YEARS_EXPERIENCE\",\"EMPLOYMENT_TYPE_NAME\",\"REMOTE_TYPE_NAME\",\n",
        "    \"DURATION\", \"IS_INTERNSHIP\",\"COMPANY_IS_STAFFING\", \"STATE_NAME\", \"MIN_EDULEVELS_NAME\"\n",
        "])\n",
        "\n",
        "# Selecting 2 categorical variables\n",
        "categorical_cols =[\n",
        "    \"REMOTE_TYPE_NAME\", \"EMPLOYMENT_TYPE_NAME\"\n",
        "]\n",
        "\n",
        "#Index and One-Hot encode\n",
        "indexers = [StringIndexer(inputCol=col, outputCol=f\"{col}_idx\", handleInvalid='skip') for col in categorical_cols]\n",
        "encoders = [OneHotEncoder(inputCol=f\"{col}_idx\", outputCol=f\"{col}_vec\") for col in categorical_cols]\n",
        "\n",
        "# Assemble base features (for GLR and Random Forrest)\n",
        "from pyspark.sql.functions import col, pow\n",
        "from pyspark.ml.feature import StringIndexer, OneHotEncoder, VectorAssembler\n",
        "from pyspark.ml import Pipeline\n",
        "\n",
        "assembler = VectorAssembler(\n",
        "    inputCols=[\n",
        "        \"MIN_YEARS_EXPERIENCE\", \"DURATION\",\n",
        "        \"IS_INTERNSHIP\", \"COMPANY_IS_STAFFING\"\n",
        "    ] + [f\"{col}_vec\" for col in categorical_cols],\n",
        "    outputCol=\"features\"\n",
        ")\n",
        "\n",
        "# Build pipeline and transform\n",
        "pipeline = Pipeline(stages=indexers + encoders + [assembler])\n",
        "data = pipeline.fit(df).transform(df)\n",
        "\n",
        "# Create squared term for Polynomical Regression\n",
        "data = data.withColumn(\"MIN_YEARS_EXPERIENCE_SQ\", pow(col(\"MIN_YEARS_EXPERIENCE\"),2))\n",
        "\n",
        "#Assemble polynomial features\n",
        "assembler_poly = VectorAssembler(\n",
        "    inputCols=[\n",
        "        \"MIN_YEARS_EXPERIENCE\", \"DURATION\",\n",
        "        \"IS_INTERNSHIP\", \"COMPANY_IS_STAFFING\"\n",
        "    ] + [f\"{col}_vec\" for col in categorical_cols],\n",
        "    outputCol=\"features_poly\"\n",
        ")\n",
        "\n",
        "data = assembler_poly.transform(data)\n",
        "\n",
        "data.select(\"SALARY\",\"features\", \"features_poly\").show(5, truncate=False)\n",
        "\n",
        "# Split into training and testing sets (80% training, 20% testing)\n",
        "train_data, test_data = data.randomSplit([0.8, 0.2], seed=42)\n",
        "\n",
        "# Check number of records in each\n",
        "print(\"Training Data Count:\", train_data.count())\n",
        "print(\"Testing Data Count:\", test_data.count())\n",
        "\n"
      ]
    },
    {
      "cell_type": "markdown",
      "id": "a6183ba4",
      "metadata": {},
      "source": [
        "# Train/Test Split"
      ]
    },
    {
      "cell_type": "code",
      "execution_count": 7,
      "id": "c122a24a",
      "metadata": {},
      "outputs": [
        {
          "name": "stderr",
          "output_type": "stream",
          "text": [
            "                                                                                \r"
          ]
        },
        {
          "name": "stdout",
          "output_type": "stream",
          "text": [
            "Training Data Count: 11604\n"
          ]
        },
        {
          "name": "stderr",
          "output_type": "stream",
          "text": [
            "                                                                                \r"
          ]
        },
        {
          "name": "stdout",
          "output_type": "stream",
          "text": [
            "Testing Data Count: 2812\n"
          ]
        },
        {
          "name": "stderr",
          "output_type": "stream",
          "text": [
            "                                                                                \r"
          ]
        },
        {
          "name": "stdout",
          "output_type": "stream",
          "text": [
            "(2243, 14)\n"
          ]
        },
        {
          "name": "stderr",
          "output_type": "stream",
          "text": [
            "                                                                                \r"
          ]
        },
        {
          "name": "stdout",
          "output_type": "stream",
          "text": [
            "(1848, 14)\n"
          ]
        },
        {
          "name": "stderr",
          "output_type": "stream",
          "text": [
            "[Stage 41:>                                                         (0 + 1) / 1]\r"
          ]
        },
        {
          "name": "stdout",
          "output_type": "stream",
          "text": [
            "(395, 14)\n"
          ]
        },
        {
          "name": "stderr",
          "output_type": "stream",
          "text": [
            "                                                                                \r"
          ]
        }
      ],
      "source": [
        "# Split into training and testing sets\n",
        "train_data, test_data = data.randomSplit([0.8, 0.2], seed=42)\n",
        "\n",
        "# Check number of records in each\n",
        "print(\"Training Data Count:\", train_data.count())\n",
        "print(\"Testing Data Count:\", test_data.count())\n",
        "\n",
        "# Split Data\n",
        "regression_train, regression_test = regression_data.randomSplit([0.8, 0.2], seed=42)\n",
        "print((regression_data.count(), len(regression_data.columns)))\n",
        "print((regression_train.count(), len(regression_train.columns)))\n",
        "print((regression_test.count(), len(regression_test.columns)))\n",
        "\n"
      ]
    },
    {
      "cell_type": "markdown",
      "id": "fe8bba7d",
      "metadata": {},
      "source": [
        "- I chose the 80/20 split after consulting with AI (CHATGPT SEE APPENDIX 1) basing it on the widely accepted standard for machine learning, which is good for model effectiveness and performance."
      ]
    },
    {
      "cell_type": "markdown",
      "id": "f1ba7a6d",
      "metadata": {},
      "source": [
        "# Regression_DF"
      ]
    },
    {
      "cell_type": "code",
      "execution_count": 8,
      "id": "fd91fb7e",
      "metadata": {},
      "outputs": [
        {
          "name": "stdout",
          "output_type": "stream",
          "text": [
            "+------+--------------------+--------------------+--------+-------------+-------------------+----------------+----------------------+------------------------------------------------------------------------------------+\n",
            "|SALARY|MIN_YEARS_EXPERIENCE|MAX_YEARS_EXPERIENCE|DURATION|IS_INTERNSHIP|COMPANY_IS_STAFFING|REMOTE_TYPE_NAME|EMPLOYMENT_TYPE_NAME  |EDUCATION_LEVELS_NAME                                                               |\n",
            "+------+--------------------+--------------------+--------+-------------+-------------------+----------------+----------------------+------------------------------------------------------------------------------------+\n",
            "|131100|2                   |2                   |11      |false        |false              |[None]          |Full-time (> 32 hours)|[\\n  \"Bachelor's degree\"\\n]                                                         |\n",
            "|136950|3                   |3                   |28      |false        |false              |Remote          |Full-time (> 32 hours)|[\\n  \"Bachelor's degree\",\\n  \"Master's degree\",\\n  \"Ph D  or professional degree\"\\n]|\n",
            "|136950|3                   |3                   |28      |false        |false              |Remote          |Full-time (> 32 hours)|[\\n  \"Bachelor's degree\",\\n  \"Master's degree\",\\n  \"Ph D  or professional degree\"\\n]|\n",
            "|104000|3                   |3                   |8       |false        |false              |[None]          |Full-time (> 32 hours)|[\\n  \"Bachelor's degree\"\\n]                                                         |\n",
            "|80000 |3                   |3                   |37      |false        |false              |[None]          |Full-time (> 32 hours)|[\\n  \"Bachelor's degree\"\\n]                                                         |\n",
            "+------+--------------------+--------------------+--------+-------------+-------------------+----------------+----------------------+------------------------------------------------------------------------------------+\n",
            "only showing top 5 rows\n",
            "\n"
          ]
        }
      ],
      "source": [
        "from pyspark.sql.functions import regexp_replace, trim, col\n",
        "from pyspark.sql.types import IntegerType\n",
        "\n",
        "regression_df = df.select(\n",
        "    \"SALARY\",\n",
        "    \"MIN_YEARS_EXPERIENCE\",\n",
        "    \"MAX_YEARS_EXPERIENCE\",\n",
        "    \"DURATION\",\n",
        "    \"IS_INTERNSHIP\",\n",
        "    \"COMPANY_IS_STAFFING\",\n",
        "    \"REMOTE_TYPE_NAME\",\n",
        "    \"EMPLOYMENT_TYPE_NAME\",\n",
        "    \"EDUCATION_LEVELS_NAME\"\n",
        ")\n",
        "\n",
        "regression_df = regression_df.withColumn(\n",
        "    \"EDUCATION_LEVELS_NAME\",\n",
        "    trim(regexp_replace(col(\"EDUCATION_LEVELS_NAME\"), r\"[\\.\\-]\", \" \"))\n",
        ")\n",
        "\n",
        "regression_df = regression_df.dropna(subset=[\n",
        "    \"SALARY\",\n",
        "    \"MIN_YEARS_EXPERIENCE\",\n",
        "    \"MAX_YEARS_EXPERIENCE\",\n",
        "    \"DURATION\",\n",
        "    \"IS_INTERNSHIP\",\n",
        "    \"COMPANY_IS_STAFFING\",\n",
        "    \"REMOTE_TYPE_NAME\",\n",
        "    \"EMPLOYMENT_TYPE_NAME\",\n",
        "    \"EDUCATION_LEVELS_NAME\"\n",
        "])\n",
        "\n",
        "# Convert Duration to numeric (in days)\n",
        "regression_df =regression_df.withColumn(\"DURATION\", col(\"DURATION\").cast(IntegerType()))\n",
        "\n",
        "regression_df.show(5, truncate=False)"
      ]
    },
    {
      "cell_type": "markdown",
      "id": "6fa381e1",
      "metadata": {},
      "source": [
        "# Linear Regression Model (OLS)"
      ]
    },
    {
      "cell_type": "code",
      "execution_count": 9,
      "id": "3d49a54f",
      "metadata": {},
      "outputs": [
        {
          "name": "stderr",
          "output_type": "stream",
          "text": [
            "                                                                                \r"
          ]
        },
        {
          "name": "stdout",
          "output_type": "stream",
          "text": [
            "+------+---------------------------------------+\n",
            "|SALARY|features                               |\n",
            "+------+---------------------------------------+\n",
            "|131100|(10,[0,1,2,5,8],[2.0,2.0,11.0,1.0,1.0])|\n",
            "|136950|(10,[0,1,2,6,8],[3.0,3.0,28.0,1.0,1.0])|\n",
            "|136950|(10,[0,1,2,6,8],[3.0,3.0,28.0,1.0,1.0])|\n",
            "|104000|(10,[0,1,2,5,8],[3.0,3.0,8.0,1.0,1.0]) |\n",
            "|80000 |(10,[0,1,2,5,8],[3.0,3.0,37.0,1.0,1.0])|\n",
            "+------+---------------------------------------+\n",
            "only showing top 5 rows\n",
            "\n"
          ]
        }
      ],
      "source": [
        "\n",
        "from pyspark.sql.functions import regexp_replace, trim\n",
        "\n",
        "regression_df = regression_df.withColumn(\"EDUCATION_LEVELS_NAME\", trim(regexp_replace(col(\"EDUCATION_LEVELS_NAME\"), r\"[\\.\\-]\", \" \")))\n",
        "\n",
        "# Index and One-Hot Encode\n",
        "indexers = [StringIndexer(inputCol=col, outputCol=f\"{col}_idx\", handleInvalid='skip') for col in categorical_cols]\n",
        "encoders = [OneHotEncoder(inputCol=f\"{col}_idx\", outputCol=f\"{col}_vec\") for col in categorical_cols]\n",
        "\n",
        "# Assemble base features (for GLR and Random Forrest)\n",
        "assembler = VectorAssembler(\n",
        "    inputCols=[\n",
        "        \"MIN_YEARS_EXPERIENCE\", \"MAX_YEARS_EXPERIENCE\", \"DURATION\",\n",
        "        \"IS_INTERNSHIP\", \"COMPANY_IS_STAFFING\"\n",
        "    ] + [f\"{col}_vec\" for col in categorical_cols],\n",
        "    outputCol=\"features\"\n",
        ")\n",
        "\n",
        "pipeline_reg = Pipeline(stages=indexers + encoders + [assembler])\n",
        "regression_data = pipeline_reg.fit(regression_df).transform(regression_df)\n",
        "\n",
        "regression_data.select(\"SALARY\",\"features\").show(5, truncate=False)\n",
        "\n"
      ]
    },
    {
      "cell_type": "markdown",
      "id": "06a2b798",
      "metadata": {},
      "source": [
        "# Linear Regression"
      ]
    },
    {
      "cell_type": "code",
      "execution_count": null,
      "id": "ff6d7723",
      "metadata": {},
      "outputs": [
        {
          "name": "stderr",
          "output_type": "stream",
          "text": [
            "                                                                                \r"
          ]
        }
      ],
      "source": [
        "from pyspark.ml.regression import GeneralizedLinearRegression, LinearRegression\n",
        "\n",
        "feature_names = assembler.getInputCols()\n",
        "\n",
        "glr = GeneralizedLinearRegression(\n",
        "    featuresCol=\"features\",\n",
        "    labelCol=\"SALARY\",\n",
        "    family=\"gaussian\",\n",
        "    link=\"identity\",\n",
        "    maxIter=10,\n",
        "    regParam=0.3\n",
        ")\n",
        "\n",
        "glr_model = glr.fit(regression_data)\n",
        "summary = glr_model.summary\n"
      ]
    },
    {
      "cell_type": "code",
      "execution_count": 11,
      "id": "e45d78e5",
      "metadata": {},
      "outputs": [
        {
          "name": "stdout",
          "output_type": "stream",
          "text": [
            "Intercept: 72867.8012\n",
            "Coefficients: \n",
            "  Feature 1: 6788.4217\n",
            "  Feature 2: -30.2179\n",
            "  Feature 3: -7430.8468\n",
            "  Feature 4: -462.8348\n",
            "  Feature 5: 9376.7518\n",
            "  Feature 6: 10966.5333\n",
            "  Feature 7: 24479.1926\n",
            "  Feature 8: 873.5864\n",
            "  Feature 9: -1045.6683\n"
          ]
        }
      ],
      "source": [
        "# Coefficients and Intercept\n",
        "print(\"Intercept: {:.4f}\".format(glr_model.intercept))\n",
        "print(\"Coefficients: \")\n",
        "for i, coef in enumerate(glr_model.coefficients):\n",
        "    print(f\"  Feature {i + 1}: {coef:.4f}\")"
      ]
    },
    {
      "cell_type": "code",
      "execution_count": 12,
      "id": "544ea799",
      "metadata": {},
      "outputs": [
        {
          "name": "stdout",
          "output_type": "stream",
          "text": [
            "\n",
            "---Regression Summary---\n"
          ]
        },
        {
          "name": "stderr",
          "output_type": "stream",
          "text": [
            "[Stage 53:>                                                         (0 + 1) / 1]\r"
          ]
        },
        {
          "name": "stdout",
          "output_type": "stream",
          "text": [
            "Coefficient Standard Errors: ['101.7731', '23.4317', '6719.3065', '1059.4688', '2390.1405', '2457.1968', '3083.8552', '2864.5937', '3513.3919', '3466.3799']\n",
            "T-values: ['66.7015', '-1.2896', '-1.1059', '-0.4369', '3.9231', '4.4630', '7.9379', '0.3050', '-0.2976', '21.0213']\n",
            "P-values: ['0.0000', '0.1972', '0.2688', '0.6622', '0.0001', '0.0000', '0.0000', '0.7604', '0.7660', '0.0000']\n"
          ]
        },
        {
          "name": "stderr",
          "output_type": "stream",
          "text": [
            "                                                                                \r"
          ]
        }
      ],
      "source": [
        "# Summary stats\n",
        "\n",
        "print(\"\\n---Regression Summary---\")\n",
        "print(\"Coefficient Standard Errors:\", [f\"{val:.4f}\" for val in summary.coefficientStandardErrors])\n",
        "print(\"T-values:\", [f\"{val:.4f}\" for val in summary.tValues])\n",
        "print(\"P-values:\", [f\"{val:.4f}\" for val in summary.pValues])"
      ]
    },
    {
      "cell_type": "code",
      "execution_count": 13,
      "id": "e4957a23",
      "metadata": {},
      "outputs": [
        {
          "name": "stderr",
          "output_type": "stream",
          "text": [
            "                                                                                \r"
          ]
        },
        {
          "name": "stdout",
          "output_type": "stream",
          "text": [
            "nullDeviance: 21009946856970.0977\n",
            "Residual DF Null: 11594\n",
            "Residual DF: 11594\n"
          ]
        },
        {
          "name": "stderr",
          "output_type": "stream",
          "text": [
            "[Stage 57:>                                                         (0 + 1) / 1]\r"
          ]
        },
        {
          "name": "stdout",
          "output_type": "stream",
          "text": [
            "AIC: 276466.6390\n",
            "Deviance: 15080861035926.1094\n"
          ]
        },
        {
          "name": "stderr",
          "output_type": "stream",
          "text": [
            "                                                                                \r"
          ]
        }
      ],
      "source": [
        "print(f\"nullDeviance: {summary.nullDeviance:.4f}\")\n",
        "print(f\"Residual DF Null: {summary.residualDegreeOfFreedom}\")\n",
        "print(f\"Residual DF: {summary.residualDegreeOfFreedom}\")\n",
        "print(f\"AIC: {summary.aic:.4f}\")\n",
        "print(f\"Deviance: {summary.deviance:.4f}\")"
      ]
    },
    {
      "cell_type": "code",
      "execution_count": 14,
      "id": "9da339a5",
      "metadata": {},
      "outputs": [
        {
          "name": "stdout",
          "output_type": "stream",
          "text": [
            "Length of features: 10\n",
            "Length of coefficients: 10\n",
            "Length of standard errors: 10\n",
            "Length of t-values: 10\n",
            "Length of p-values: 10\n"
          ]
        }
      ],
      "source": [
        "# Pull feature names directly from Java backend\n",
        "\n",
        "feature_names = summary._call_java(\"featureNames\")\n",
        "\n",
        "# Construct full table including intercept\n",
        "features = [\"Intercept\"] + feature_names\n",
        "coef = [glr_model.intercept] + list(glr_model.coefficients)\n",
        "se = list(summary.coefficientStandardErrors)\n",
        "tvals = list(summary.tValues)\n",
        "pvals = list(summary.pValues)\n",
        "\n",
        "print(\"Length of features:\", len(features))\n",
        "print(\"Length of coefficients:\", len(coef))\n",
        "print(\"Length of standard errors:\", len(se))\n",
        "print(\"Length of t-values:\", len(tvals))\n",
        "print(\"Length of p-values:\", len(pvals))"
      ]
    },
    {
      "cell_type": "code",
      "execution_count": 15,
      "id": "22da20d5",
      "metadata": {},
      "outputs": [
        {
          "data": {
            "text/html": [
              "<table border=\"1\" class=\"dataframe\">\n",
              "  <thead>\n",
              "    <tr style=\"text-align: right;\">\n",
              "      <th></th>\n",
              "      <th>Features</th>\n",
              "      <th>Estimate</th>\n",
              "      <th>Std. Error</th>\n",
              "      <th>t value</th>\n",
              "      <th>P-value</th>\n",
              "    </tr>\n",
              "  </thead>\n",
              "  <tbody>\n",
              "    <tr>\n",
              "      <th>0</th>\n",
              "      <td>Intercept</td>\n",
              "      <td>72867.8012</td>\n",
              "      <td>101.7731</td>\n",
              "      <td>66.7015</td>\n",
              "      <td>0.0000</td>\n",
              "    </tr>\n",
              "    <tr>\n",
              "      <th>1</th>\n",
              "      <td>MIN_YEARS_EXPERIENCE</td>\n",
              "      <td>6788.4217</td>\n",
              "      <td>23.4317</td>\n",
              "      <td>-1.2896</td>\n",
              "      <td>0.1972</td>\n",
              "    </tr>\n",
              "    <tr>\n",
              "      <th>2</th>\n",
              "      <td>DURATION</td>\n",
              "      <td>-30.2179</td>\n",
              "      <td>6719.3065</td>\n",
              "      <td>-1.1059</td>\n",
              "      <td>0.2688</td>\n",
              "    </tr>\n",
              "    <tr>\n",
              "      <th>3</th>\n",
              "      <td>IS_INTERNSHIP</td>\n",
              "      <td>-7430.8468</td>\n",
              "      <td>1059.4688</td>\n",
              "      <td>-0.4369</td>\n",
              "      <td>0.6622</td>\n",
              "    </tr>\n",
              "    <tr>\n",
              "      <th>4</th>\n",
              "      <td>COMPANY_IS_STAFFING</td>\n",
              "      <td>-462.8348</td>\n",
              "      <td>2390.1405</td>\n",
              "      <td>3.9231</td>\n",
              "      <td>0.0001</td>\n",
              "    </tr>\n",
              "    <tr>\n",
              "      <th>5</th>\n",
              "      <td>REMOTE_TYPE_NAME_vec_[None]</td>\n",
              "      <td>9376.7518</td>\n",
              "      <td>2457.1968</td>\n",
              "      <td>4.4630</td>\n",
              "      <td>0.0000</td>\n",
              "    </tr>\n",
              "    <tr>\n",
              "      <th>6</th>\n",
              "      <td>REMOTE_TYPE_NAME_vec_Remote</td>\n",
              "      <td>10966.5333</td>\n",
              "      <td>3083.8552</td>\n",
              "      <td>7.9379</td>\n",
              "      <td>0.0000</td>\n",
              "    </tr>\n",
              "    <tr>\n",
              "      <th>7</th>\n",
              "      <td>REMOTE_TYPE_NAME_vec_Hybrid Remote</td>\n",
              "      <td>24479.1926</td>\n",
              "      <td>2864.5937</td>\n",
              "      <td>0.3050</td>\n",
              "      <td>0.7604</td>\n",
              "    </tr>\n",
              "    <tr>\n",
              "      <th>8</th>\n",
              "      <td>EMPLOYMENT_TYPE_NAME_vec_Full-time (&gt; 32 hours)</td>\n",
              "      <td>873.5864</td>\n",
              "      <td>3513.3919</td>\n",
              "      <td>-0.2976</td>\n",
              "      <td>0.7660</td>\n",
              "    </tr>\n",
              "    <tr>\n",
              "      <th>9</th>\n",
              "      <td>EMPLOYMENT_TYPE_NAME_vec_Part-time (â‰¤ 32 hours)</td>\n",
              "      <td>-1045.6683</td>\n",
              "      <td>3466.3799</td>\n",
              "      <td>21.0213</td>\n",
              "      <td>0.0000</td>\n",
              "    </tr>\n",
              "  </tbody>\n",
              "</table>"
            ],
            "text/plain": [
              "<IPython.core.display.HTML object>"
            ]
          },
          "execution_count": 15,
          "metadata": {},
          "output_type": "execute_result"
        }
      ],
      "source": [
        "import pandas as pd\n",
        "from tabulate import tabulate\n",
        "from IPython.display import HTML\n",
        "\n",
        "coef_table = pd.DataFrame({\n",
        "    \"Features\": features,\n",
        "    \"Estimate\": [f\"{v:.4f}\" if v is not None else None for v in coef],\n",
        "    \"Std. Error\": [f\"{v:.4f}\" if v is not None else None for v in se],\n",
        "    \"t value\": [f\"{v:.4f}\" if v is not None else None for v in tvals],\n",
        "    \"P-value\": [f\"{v:.4f}\" if v is not None else None for v in pvals]\n",
        "})\n",
        "\n",
        "# Save Report\n",
        "coef_table.to_csv(\"output/glr_summary.csb\", index=False)\n",
        "\n",
        "# Optional pretty print\n",
        "\n",
        "HTML (coef_table.to_html())"
      ]
    },
    {
      "cell_type": "markdown",
      "id": "19068f8c",
      "metadata": {},
      "source": [
        "- Performance"
      ]
    },
    {
      "cell_type": "markdown",
      "id": "eb8d8331",
      "metadata": {},
      "source": [
        "# Generalized Linear Regression Summary\n",
        "- "
      ]
    },
    {
      "cell_type": "markdown",
      "id": "204a04cd",
      "metadata": {},
      "source": [
        "# Polynomical Regression"
      ]
    },
    {
      "cell_type": "code",
      "execution_count": 28,
      "id": "21887668",
      "metadata": {},
      "outputs": [
        {
          "name": "stdout",
          "output_type": "stream",
          "text": [
            "+------+---------------------------------------------+\n",
            "|SALARY|features_poly                                |\n",
            "+------+---------------------------------------------+\n",
            "|131100|(11,[0,1,2,3,6,9],[2.0,4.0,2.0,11.0,1.0,1.0])|\n",
            "|136950|(11,[0,1,2,3,7,9],[3.0,9.0,3.0,28.0,1.0,1.0])|\n",
            "|136950|(11,[0,1,2,3,7,9],[3.0,9.0,3.0,28.0,1.0,1.0])|\n",
            "|104000|(11,[0,1,2,3,6,9],[3.0,9.0,3.0,8.0,1.0,1.0]) |\n",
            "|80000 |(11,[0,1,2,3,6,9],[3.0,9.0,3.0,37.0,1.0,1.0])|\n",
            "+------+---------------------------------------------+\n",
            "only showing top 5 rows\n",
            "\n"
          ]
        }
      ],
      "source": [
        "#| eval: true\n",
        "#| echo: false\n",
        "#| fig-align: center\n",
        "\n",
        "# Index and One-Hot encode\n",
        "\n",
        "poly_data = regression_data.withColumn(\"MIN_YEARS_EXPERIENCE_SQ\", pow(col(\"MIN_YEARS_EXPERIENCE\"),2))\n",
        "\n",
        "assembler_poly = VectorAssembler(\n",
        "    inputCols=[\n",
        "        \"MIN_YEARS_EXPERIENCE\", \"MIN_YEARS_EXPERIENCE_SQ\", \"MAX_YEARS_EXPERIENCE\", \"DURATION\",\n",
        "        \"IS_INTERNSHIP\", \"COMPANY_IS_STAFFING\"\n",
        "    ] + [f\"{col}_vec\" for col in categorical_cols],\n",
        "    outputCol=\"features_poly\"\n",
        ")  \n",
        "\n",
        "poly_data = assembler_poly.transform(poly_data)\n",
        "\n",
        "poly_data.select(\"SALARY\",\"features_poly\").show(5, truncate=False)"
      ]
    },
    {
      "cell_type": "code",
      "execution_count": 29,
      "id": "7f57d1ca",
      "metadata": {},
      "outputs": [
        {
          "name": "stderr",
          "output_type": "stream",
          "text": [
            "                                                                                \r"
          ]
        },
        {
          "name": "stdout",
          "output_type": "stream",
          "text": [
            "(2243, 16)\n"
          ]
        },
        {
          "name": "stderr",
          "output_type": "stream",
          "text": [
            "                                                                                \r"
          ]
        },
        {
          "name": "stdout",
          "output_type": "stream",
          "text": [
            "(1848, 16)\n"
          ]
        },
        {
          "name": "stderr",
          "output_type": "stream",
          "text": [
            "[Stage 86:>                                                         (0 + 1) / 1]\r"
          ]
        },
        {
          "name": "stdout",
          "output_type": "stream",
          "text": [
            "(395, 16)\n"
          ]
        },
        {
          "name": "stderr",
          "output_type": "stream",
          "text": [
            "                                                                                \r"
          ]
        }
      ],
      "source": [
        "# Split Data\n",
        "polyreg_train, polyreg_test = poly_data.randomSplit([0.8, 0.2], seed=42)\n",
        "print((poly_data.count(), len(poly_data.columns)))\n",
        "print((polyreg_train.count(), len(polyreg_train.columns)))\n",
        "print((polyreg_test.count(), len(polyreg_test.columns)))\n"
      ]
    },
    {
      "cell_type": "code",
      "execution_count": 30,
      "id": "6254c18a",
      "metadata": {},
      "outputs": [
        {
          "name": "stderr",
          "output_type": "stream",
          "text": [
            "                                                                                \r"
          ]
        }
      ],
      "source": [
        "from pyspark.ml.regression import GeneralizedLinearRegression, LinearRegression\n",
        "\n",
        "feature_names = assembler.getInputCols()\n",
        "\n",
        "poly_glr_max_years_model = GeneralizedLinearRegression(\n",
        "    featuresCol=\"features\",\n",
        "    labelCol=\"SALARY\",\n",
        "    family=\"gaussian\",\n",
        "    link=\"identity\",\n",
        "    maxIter=10,\n",
        "    regParam=0.3\n",
        ")\n",
        "\n",
        "poly_glr_max_years_model = poly_glr_max_years_model.fit(poly_data)\n",
        "poly_summary = poly_glr_max_years_model.summary"
      ]
    },
    {
      "cell_type": "code",
      "execution_count": 31,
      "id": "3d3686a7",
      "metadata": {},
      "outputs": [
        {
          "name": "stdout",
          "output_type": "stream",
          "text": [
            "Intercept: 75819.4000\n",
            "Coefficients: \n",
            "  Feature 1: 4215.6844\n",
            "  Feature 2: 4215.6844\n",
            "  Feature 3: -23.7725\n",
            "  Feature 4: -23942.2288\n",
            "  Feature 5: -98.6466\n",
            "  Feature 6: 6430.6643\n",
            "  Feature 7: 16463.9439\n",
            "  Feature 8: 655.1948\n",
            "  Feature 9: -9251.7034\n",
            "  Feature 10: -12761.7200\n",
            "\n",
            "---Regression Summary---\n"
          ]
        },
        {
          "name": "stderr",
          "output_type": "stream",
          "text": [
            "[Stage 90:>                                                         (0 + 1) / 1]\r"
          ]
        },
        {
          "name": "stdout",
          "output_type": "stream",
          "text": [
            "Coefficient Standard Errors: ['57432.0320', '57432.0320', '40.9532', '12518.4270', '1651.7511', '5327.5134', '5421.5678', '6892.7578', '7503.5432', '8182.7045', '9011.3793']\n",
            "T-values: ['0.0734', '0.0734', '-0.5805', '-1.9126', '-0.0597', '1.2071', '3.0367', '0.0951', '-1.2330', '-1.5596', '8.4137']\n",
            "P-values: ['0.9415', '0.9415', '0.5617', '0.0559', '0.9524', '0.2275', '0.0024', '0.9243', '0.2177', '0.1190', '0.0000']\n"
          ]
        },
        {
          "name": "stderr",
          "output_type": "stream",
          "text": [
            "                                                                                \r"
          ]
        }
      ],
      "source": [
        "# Coefficients and Intercept\n",
        "print(\"Intercept: {:.4f}\".format(poly_glr_max_years_model.intercept))\n",
        "print(\"Coefficients: \")\n",
        "for i, coef in enumerate(poly_glr_max_years_model.coefficients):\n",
        "    print(f\"  Feature {i + 1}: {coef:.4f}\")\n",
        "\n",
        "    # Summary stats\n",
        "\n",
        "print(\"\\n---Regression Summary---\")\n",
        "print(\"Coefficient Standard Errors:\", [f\"{val:.4f}\" for val in poly_summary.coefficientStandardErrors])\n",
        "print(\"T-values:\", [f\"{val:.4f}\" for val in poly_summary.tValues])\n",
        "print(\"P-values:\", [f\"{val:.4f}\" for val in poly_summary.pValues])"
      ]
    },
    {
      "cell_type": "code",
      "execution_count": 32,
      "id": "211ccda6",
      "metadata": {},
      "outputs": [
        {
          "name": "stderr",
          "output_type": "stream",
          "text": [
            "[Stage 93:>                                                         (0 + 1) / 1]\r"
          ]
        },
        {
          "name": "stdout",
          "output_type": "stream",
          "text": [
            "nullDeviance: 2728391925894.5732\n",
            "Residual DF Null: 2232\n",
            "Residual DF: 2232\n"
          ]
        },
        {
          "name": "stderr",
          "output_type": "stream",
          "text": [
            "[Stage 94:>                                                         (0 + 1) / 1]\r"
          ]
        },
        {
          "name": "stdout",
          "output_type": "stream",
          "text": [
            "AIC: 52299.8485\n",
            "Deviance: 1738269402130.5212\n"
          ]
        },
        {
          "name": "stderr",
          "output_type": "stream",
          "text": [
            "                                                                                \r"
          ]
        }
      ],
      "source": [
        "print(f\"nullDeviance: {poly_summary.nullDeviance:.4f}\")\n",
        "print(f\"Residual DF Null: {poly_summary.residualDegreeOfFreedom}\")\n",
        "print(f\"Residual DF: {poly_summary.residualDegreeOfFreedom}\")\n",
        "print(f\"AIC: {poly_summary.aic:.4f}\")\n",
        "print(f\"Deviance: {poly_summary.deviance:.4f}\")"
      ]
    },
    {
      "cell_type": "code",
      "execution_count": 34,
      "id": "897449e1",
      "metadata": {},
      "outputs": [
        {
          "name": "stdout",
          "output_type": "stream",
          "text": [
            "Length of features: 11\n",
            "Length of coefficients: 11\n",
            "Length of standard errors: 11\n",
            "Length of t-values: 11\n",
            "Length of p-values: 11\n"
          ]
        }
      ],
      "source": [
        "# Pull feature names directly from Java backend\n",
        "\n",
        "feature_names = poly_summary._call_java(\"featureNames\")\n",
        "\n",
        "# Construct full table including intercept\n",
        "poly_features = [\"Intercept\"] + feature_names\n",
        "poly_coef = [poly_glr_max_years_model.intercept] + list(poly_glr_max_years_model.coefficients)\n",
        "poly_se = list(poly_summary.coefficientStandardErrors)\n",
        "poly_tvals = list(poly_summary.tValues)\n",
        "poly_pvals = list(poly_summary.pValues)\n",
        "\n",
        "print(\"Length of features:\", len(poly_features))\n",
        "print(\"Length of coefficients:\", len(poly_coef))\n",
        "print(\"Length of standard errors:\", len(poly_se))\n",
        "print(\"Length of t-values:\", len(poly_tvals))\n",
        "print(\"Length of p-values:\", len(poly_pvals))"
      ]
    },
    {
      "cell_type": "code",
      "execution_count": 35,
      "id": "a3867997",
      "metadata": {},
      "outputs": [
        {
          "data": {
            "text/html": [
              "<table border=\"1\" class=\"dataframe\">\n",
              "  <thead>\n",
              "    <tr style=\"text-align: right;\">\n",
              "      <th></th>\n",
              "      <th>Features</th>\n",
              "      <th>Estimate</th>\n",
              "      <th>Std. Error</th>\n",
              "      <th>t value</th>\n",
              "      <th>P-value</th>\n",
              "    </tr>\n",
              "  </thead>\n",
              "  <tbody>\n",
              "    <tr>\n",
              "      <th>0</th>\n",
              "      <td>Intercept</td>\n",
              "      <td>75819.4000</td>\n",
              "      <td>57432.0320</td>\n",
              "      <td>0.0734</td>\n",
              "      <td>0.9415</td>\n",
              "    </tr>\n",
              "    <tr>\n",
              "      <th>1</th>\n",
              "      <td>MIN_YEARS_EXPERIENCE</td>\n",
              "      <td>4215.6844</td>\n",
              "      <td>57432.0320</td>\n",
              "      <td>0.0734</td>\n",
              "      <td>0.9415</td>\n",
              "    </tr>\n",
              "    <tr>\n",
              "      <th>2</th>\n",
              "      <td>MAX_YEARS_EXPERIENCE</td>\n",
              "      <td>4215.6844</td>\n",
              "      <td>40.9532</td>\n",
              "      <td>-0.5805</td>\n",
              "      <td>0.5617</td>\n",
              "    </tr>\n",
              "    <tr>\n",
              "      <th>3</th>\n",
              "      <td>DURATION</td>\n",
              "      <td>-23.7725</td>\n",
              "      <td>12518.4270</td>\n",
              "      <td>-1.9126</td>\n",
              "      <td>0.0559</td>\n",
              "    </tr>\n",
              "    <tr>\n",
              "      <th>4</th>\n",
              "      <td>IS_INTERNSHIP</td>\n",
              "      <td>-23942.2288</td>\n",
              "      <td>1651.7511</td>\n",
              "      <td>-0.0597</td>\n",
              "      <td>0.9524</td>\n",
              "    </tr>\n",
              "    <tr>\n",
              "      <th>5</th>\n",
              "      <td>COMPANY_IS_STAFFING</td>\n",
              "      <td>-98.6466</td>\n",
              "      <td>5327.5134</td>\n",
              "      <td>1.2071</td>\n",
              "      <td>0.2275</td>\n",
              "    </tr>\n",
              "    <tr>\n",
              "      <th>6</th>\n",
              "      <td>REMOTE_TYPE_NAME_vec_[None]</td>\n",
              "      <td>6430.6643</td>\n",
              "      <td>5421.5678</td>\n",
              "      <td>3.0367</td>\n",
              "      <td>0.0024</td>\n",
              "    </tr>\n",
              "    <tr>\n",
              "      <th>7</th>\n",
              "      <td>REMOTE_TYPE_NAME_vec_Remote</td>\n",
              "      <td>16463.9439</td>\n",
              "      <td>6892.7578</td>\n",
              "      <td>0.0951</td>\n",
              "      <td>0.9243</td>\n",
              "    </tr>\n",
              "    <tr>\n",
              "      <th>8</th>\n",
              "      <td>REMOTE_TYPE_NAME_vec_Hybrid Remote</td>\n",
              "      <td>655.1948</td>\n",
              "      <td>7503.5432</td>\n",
              "      <td>-1.2330</td>\n",
              "      <td>0.2177</td>\n",
              "    </tr>\n",
              "    <tr>\n",
              "      <th>9</th>\n",
              "      <td>EMPLOYMENT_TYPE_NAME_vec_Full-time (&gt; 32 hours)</td>\n",
              "      <td>-9251.7034</td>\n",
              "      <td>8182.7045</td>\n",
              "      <td>-1.5596</td>\n",
              "      <td>0.1190</td>\n",
              "    </tr>\n",
              "    <tr>\n",
              "      <th>10</th>\n",
              "      <td>EMPLOYMENT_TYPE_NAME_vec_Part-time (â‰¤ 32 hours)</td>\n",
              "      <td>-12761.7200</td>\n",
              "      <td>9011.3793</td>\n",
              "      <td>8.4137</td>\n",
              "      <td>0.0000</td>\n",
              "    </tr>\n",
              "  </tbody>\n",
              "</table>"
            ],
            "text/plain": [
              "<IPython.core.display.HTML object>"
            ]
          },
          "execution_count": 35,
          "metadata": {},
          "output_type": "execute_result"
        }
      ],
      "source": [
        "import pandas as pd\n",
        "from tabulate import tabulate\n",
        "from IPython.display import HTML\n",
        "\n",
        "poly_coef_table = pd.DataFrame({\n",
        "    \"Features\": poly_features,\n",
        "    \"Estimate\": [f\"{v:.4f}\" if v is not None else None for v in poly_coef],\n",
        "    \"Std. Error\": [f\"{v:.4f}\" if v is not None else None for v in poly_se],\n",
        "    \"t value\": [f\"{v:.4f}\" if v is not None else None for v in poly_tvals],\n",
        "    \"P-value\": [f\"{v:.4f}\" if v is not None else None for v in poly_pvals]\n",
        "})\n",
        "\n",
        "# Save Report\n",
        "poly_coef_table.to_csv(\"output/poly_summary.csb\", index=False)\n",
        "\n",
        "# Optional pretty print\n",
        "\n",
        "HTML (poly_coef_table.to_html())"
      ]
    }
  ],
  "metadata": {
    "kernelspec": {
      "display_name": ".venv",
      "language": "python",
      "name": "python3"
    },
    "language_info": {
      "codemirror_mode": {
        "name": "ipython",
        "version": 3
      },
      "file_extension": ".py",
      "mimetype": "text/x-python",
      "name": "python",
      "nbconvert_exporter": "python",
      "pygments_lexer": "ipython3",
      "version": "3.12.3"
    }
  },
  "nbformat": 4,
  "nbformat_minor": 5
}
