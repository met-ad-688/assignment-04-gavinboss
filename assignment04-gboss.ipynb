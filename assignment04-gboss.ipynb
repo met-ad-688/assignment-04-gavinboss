{
  "cells": [
    {
      "cell_type": "raw",
      "id": "a8cca8a6",
      "metadata": {
        "vscode": {
          "languageId": "raw"
        }
      },
      "source": [
        "---\n",
        "title: Assignment 04\n",
        "author:\n",
        "  - name: Gavin Boss\n",
        "    affiliations:\n",
        "      - id: bu\n",
        "        name: Boston University\n",
        "        city: Boston\n",
        "        state: MA\n",
        "number-sections: true\n",
        "date: '2025-10-04'\n",
        "date-modified: today\n",
        "date-format: long\n",
        "format:\n",
        "  html:\n",
        "    theme: cerulean\n",
        "    toc: true\n",
        "    toc-depth: 2\n",
        "\n",
        "execute:\n",
        "  echo: false\n",
        "  eval: True\n",
        "  freeze: auto\n",
        "---"
      ]
    },
    {
      "cell_type": "markdown",
      "id": "5b87455c",
      "metadata": {},
      "source": [
        "# Load the Dataset\n"
      ]
    },
    {
      "cell_type": "code",
      "execution_count": 2,
      "id": "91cd3da8",
      "metadata": {},
      "outputs": [
        {
          "name": "stderr",
          "output_type": "stream",
          "text": [
            "Setting default log level to \"WARN\".\n",
            "To adjust logging level use sc.setLogLevel(newLevel). For SparkR, use setLogLevel(newLevel).\n",
            "25/10/06 21:06:44 WARN NativeCodeLoader: Unable to load native-hadoop library for your platform... using builtin-java classes where applicable\n",
            "                                                                                \r"
          ]
        }
      ],
      "source": [
        "from pyspark.sql import SparkSession\n",
        "import pandas as pd\n",
        "import plotly.express as px\n",
        "import plotly.io as pio\n",
        "import numpy as np\n",
        "\n",
        "np.random.seed(42)\n",
        "\n",
        "pio.renderers.default = \"notebook+notebook_connected+vscode\"\n",
        "\n",
        "# Initialize Spark Session\n",
        "spark = SparkSession.builder.appName(\"LightcastData\").getOrCreate()\n",
        "\n",
        "# Load Data\n",
        "df = spark.read.option(\"header\", \"true\").option(\"inferSchema\", \"true\").option(\"multiLine\",\"true\").option(\"escape\", \"\\\"\").csv(\"data/lightcast_job_postings.csv\")\n",
        "\n",
        "# Show Schema and Sample Data\n",
        "# print(\"---This is Diagnostic check, No need to print it in the final doc---\")\n",
        "\n",
        "# df.printSchema() # comment this line when rendering the submission\n",
        "# df.show(5)"
      ]
    },
    {
      "cell_type": "markdown",
      "id": "225b52a5",
      "metadata": {},
      "source": [
        "\n",
        "# Feature Engineering"
      ]
    },
    {
      "cell_type": "code",
      "execution_count": null,
      "id": "fb3e5360",
      "metadata": {},
      "outputs": [
        {
          "name": "stderr",
          "output_type": "stream",
          "text": [
            "                                                                                \r"
          ]
        },
        {
          "name": "stdout",
          "output_type": "stream",
          "text": [
            "+------+---------------------------------+---------------------------------+\n",
            "|SALARY|features                         |features_poly                    |\n",
            "+------+---------------------------------+---------------------------------+\n",
            "|92962 |(9,[0,1,4,7],[2.0,18.0,1.0,1.0]) |(9,[0,1,4,7],[2.0,18.0,1.0,1.0]) |\n",
            "|107645|(9,[0,1,7],[10.0,18.0,1.0])      |(9,[0,1,7],[10.0,18.0,1.0])      |\n",
            "|192800|(9,[0,1,4,7],[6.0,55.0,1.0,1.0]) |(9,[0,1,4,7],[6.0,55.0,1.0,1.0]) |\n",
            "|125900|(9,[0,1,4,7],[12.0,18.0,1.0,1.0])|(9,[0,1,4,7],[12.0,18.0,1.0,1.0])|\n",
            "|170000|(9,[0,1,4,7],[6.0,18.0,1.0,1.0]) |(9,[0,1,4,7],[6.0,18.0,1.0,1.0]) |\n",
            "+------+---------------------------------+---------------------------------+\n",
            "only showing top 5 rows\n",
            "\n"
          ]
        },
        {
          "name": "stderr",
          "output_type": "stream",
          "text": [
            "                                                                                \r"
          ]
        },
        {
          "name": "stdout",
          "output_type": "stream",
          "text": [
            "Training Data Count: 18966\n"
          ]
        },
        {
          "name": "stderr",
          "output_type": "stream",
          "text": [
            "[Stage 141:>                                                        (0 + 1) / 1]\r"
          ]
        },
        {
          "name": "stdout",
          "output_type": "stream",
          "text": [
            "Testing Data Count: 4731\n"
          ]
        },
        {
          "name": "stderr",
          "output_type": "stream",
          "text": [
            "                                                                                \r"
          ]
        }
      ],
      "source": [
        "#| eval: true\n",
        "#| echo: false\n",
        "#| fig-align: center\n",
        "\n",
        "from pyspark.sql.functions import col, pow\n",
        "from pyspark.ml.feature import StringIndexer, OneHotEncoder, VectorAssembler\n",
        "from pyspark.ml import Pipeline\n",
        "\n",
        "# Drop Missing Values in target variable and key features\n",
        "\n",
        "df = df.dropna(subset=[\n",
        "    \"SALARY\", \"MIN_YEARS_EXPERIENCE\",\"EMPLOYMENT_TYPE_NAME\",\"REMOTE_TYPE_NAME\",\n",
        "    \"DURATION\", \"IS_INTERNSHIP\",\"COMPANY_IS_STAFFING\", \"STATE_NAME\", \"MIN_EDULEVELS_NAME\"\n",
        "])\n",
        "\n",
        "# Selecting 2 categorical variables\n",
        "categorical_cols =[\n",
        "    \"REMOTE_TYPE_NAME\", \"EMPLOYMENT_TYPE_NAME\"\n",
        "]\n",
        "\n",
        "#Index and One-Hot encode\n",
        "indexers = [StringIndexer(inputCol=col, outputCol=f\"{col}_idx\", handleInvalid='skip') for col in categorical_cols]\n",
        "encoders = [OneHotEncoder(inputCol=f\"{col}_idx\", outputCol=f\"{col}_vec\") for col in categorical_cols]\n",
        "\n",
        "# Assemble base features (for GLR and Random Forrest)\n",
        "from pyspark.sql.functions import col, pow\n",
        "from pyspark.ml.feature import StringIndexer, OneHotEncoder, VectorAssembler\n",
        "from pyspark.ml import Pipeline\n",
        "\n",
        "assembler = VectorAssembler(\n",
        "    inputCols=[\n",
        "        \"MIN_YEARS_EXPERIENCE\", \"DURATION\",\n",
        "        \"IS_INTERNSHIP\", \"COMPANY_IS_STAFFING\"\n",
        "    ] + [f\"{col}_vec\" for col in categorical_cols],\n",
        "    outputCol=\"features\"\n",
        ")\n",
        "\n",
        "# Build pipeline and transform\n",
        "pipeline = Pipeline(stages=indexers + encoders + [assembler])\n",
        "data = pipeline.fit(df).transform(df)\n",
        "\n",
        "# Create squared term for Polynomical Regression\n",
        "data = data.withColumn(\"MIN_YEARS_EXPERIENCE_SQ\", pow(col(\"MIN_YEARS_EXPERIENCE\"),2))\n",
        "\n",
        "#Assemble polynomial features\n",
        "assembler_poly = VectorAssembler(\n",
        "    inputCols=[\n",
        "        \"MIN_YEARS_EXPERIENCE\", \"DURATION\",\n",
        "        \"IS_INTERNSHIP\", \"COMPANY_IS_STAFFING\"\n",
        "    ] + [f\"{col}_vec\" for col in categorical_cols],\n",
        "    outputCol=\"features_poly\"\n",
        ")\n",
        "\n",
        "data = assembler_poly.transform(data)\n",
        "\n",
        "data.select(\"SALARY\",\"features\", \"features_poly\").show(5, truncate=False)\n",
        "\n",
        "# Split into training and testing sets (80% training, 20% testing)\n",
        "train_data, test_data = data.randomSplit([0.8, 0.2], seed=42)\n",
        "\n",
        "# Check number of records in each\n",
        "print(\"Training Data Count:\", train_data.count())\n",
        "print(\"Testing Data Count:\", test_data.count())\n",
        "\n"
      ]
    },
    {
      "cell_type": "markdown",
      "id": "a6183ba4",
      "metadata": {},
      "source": [
        "# Train/Test Split"
      ]
    },
    {
      "cell_type": "code",
      "execution_count": null,
      "id": "c122a24a",
      "metadata": {},
      "outputs": [
        {
          "name": "stderr",
          "output_type": "stream",
          "text": [
            "                                                                                \r"
          ]
        },
        {
          "name": "stdout",
          "output_type": "stream",
          "text": [
            "Training Data Count: 18966\n"
          ]
        },
        {
          "name": "stderr",
          "output_type": "stream",
          "text": [
            "[Stage 147:>                                                        (0 + 1) / 1]\r"
          ]
        },
        {
          "name": "stdout",
          "output_type": "stream",
          "text": [
            "Testing Data Count: 4731\n"
          ]
        },
        {
          "name": "stderr",
          "output_type": "stream",
          "text": [
            "                                                                                \r"
          ]
        }
      ],
      "source": [
        "# Split into training and testing sets\n",
        "train_data, test_data = data.randomSplit([0.8, 0.2], seed=42)\n",
        "\n",
        "# Check number of records in each\n",
        "print(\"Training Data Count:\", train_data.count())\n",
        "print(\"Testing Data Count:\", test_data.count())\n",
        "\n"
      ]
    },
    {
      "cell_type": "markdown",
      "id": "fe8bba7d",
      "metadata": {},
      "source": [
        "I chose the 80/20 split after consulting with AI (CHATGPT SEE APPENDIX 1) basing it on the widely accepted standard for machine learning, which is good for model effectiveness and performance."
      ]
    },
    {
      "cell_type": "markdown",
      "id": "6fa381e1",
      "metadata": {},
      "source": [
        "# Linear Regression Model (OLS)"
      ]
    },
    {
      "cell_type": "code",
      "execution_count": null,
      "id": "3d49a54f",
      "metadata": {},
      "outputs": [
        {
          "name": "stderr",
          "output_type": "stream",
          "text": [
            "25/10/06 22:11:22 WARN Instrumentation: [9844a335] regParam is zero, which might cause numerical instability and overfitting.\n",
            "[Stage 157:>                                                        (0 + 1) / 1]\r"
          ]
        },
        {
          "name": "stdout",
          "output_type": "stream",
          "text": [
            "Intercept: 75298.51651262121\n",
            "Coefficients: [6615.06097689284,-90.88575270939587,-95.6950324882812,-2338.5967976991965,10727.559248773261,13561.321280558403,18360.09331832105,1085.2671075200626,-6512.923684351729]\n",
            "R²: 0.2632\n",
            "RMSE: 37291.4951\n",
            "MAE: 28918.2778\n"
          ]
        },
        {
          "name": "stderr",
          "output_type": "stream",
          "text": [
            "                                                                                \r"
          ]
        },
        {
          "ename": "AttributeError",
          "evalue": "'LinearRegressionTrainingSummary' object has no attribute 'featureNames'",
          "output_type": "error",
          "traceback": [
            "\u001b[31m---------------------------------------------------------------------------\u001b[39m",
            "\u001b[31mAttributeError\u001b[39m                            Traceback (most recent call last)",
            "\u001b[36mCell\u001b[39m\u001b[36m \u001b[39m\u001b[32mIn[36]\u001b[39m\u001b[32m, line 22\u001b[39m\n\u001b[32m     18\u001b[39m \u001b[38;5;28mprint\u001b[39m(\u001b[33mf\u001b[39m\u001b[33m\"\u001b[39m\u001b[33mMAE: \u001b[39m\u001b[38;5;132;01m{\u001b[39;00msummary.meanAbsoluteError\u001b[38;5;132;01m:\u001b[39;00m\u001b[33m.4f\u001b[39m\u001b[38;5;132;01m}\u001b[39;00m\u001b[33m\"\u001b[39m)\n\u001b[32m     20\u001b[39m \u001b[38;5;66;03m# Coefficient statistics\u001b[39;00m\n\u001b[32m     21\u001b[39m coefs_df = pd.DataFrame({\n\u001b[32m---> \u001b[39m\u001b[32m22\u001b[39m     \u001b[33m\"\u001b[39m\u001b[33mFeature\u001b[39m\u001b[33m\"\u001b[39m: [\u001b[33m\"\u001b[39m\u001b[33mIntercept\u001b[39m\u001b[33m\"\u001b[39m] + \u001b[43msummary\u001b[49m\u001b[43m.\u001b[49m\u001b[43mfeatureNames\u001b[49m,\n\u001b[32m     23\u001b[39m     \u001b[33m\"\u001b[39m\u001b[33mCoefficient\u001b[39m\u001b[33m\"\u001b[39m: [lr_model.intercept] + \u001b[38;5;28mlist\u001b[39m(lr_model.coefficients),\n\u001b[32m     24\u001b[39m     \u001b[33m\"\u001b[39m\u001b[33mStd_Error\u001b[39m\u001b[33m\"\u001b[39m: [\u001b[38;5;28;01mNone\u001b[39;00m] + \u001b[38;5;28mlist\u001b[39m(summary.coefficientStandardErrors),\n\u001b[32m     25\u001b[39m     \u001b[33m\"\u001b[39m\u001b[33mt_Value\u001b[39m\u001b[33m\"\u001b[39m: [\u001b[38;5;28;01mNone\u001b[39;00m] + \u001b[38;5;28mlist\u001b[39m(summary.tValues),\n\u001b[32m     26\u001b[39m     \u001b[33m\"\u001b[39m\u001b[33mp_Value\u001b[39m\u001b[33m\"\u001b[39m: [\u001b[38;5;28;01mNone\u001b[39;00m] + \u001b[38;5;28mlist\u001b[39m(summary.pValues)\n\u001b[32m     27\u001b[39m })\n\u001b[32m     29\u001b[39m \u001b[38;5;66;03m# 95% Confidence intervals\u001b[39;00m\n\u001b[32m     30\u001b[39m confidence_level = \u001b[32m1.96\u001b[39m\n",
            "\u001b[31mAttributeError\u001b[39m: 'LinearRegressionTrainingSummary' object has no attribute 'featureNames'"
          ]
        }
      ],
      "source": [
        "\n"
      ]
    }
  ],
  "metadata": {
    "kernelspec": {
      "display_name": ".venv",
      "language": "python",
      "name": "python3"
    },
    "language_info": {
      "codemirror_mode": {
        "name": "ipython",
        "version": 3
      },
      "file_extension": ".py",
      "mimetype": "text/x-python",
      "name": "python",
      "nbconvert_exporter": "python",
      "pygments_lexer": "ipython3",
      "version": "3.12.3"
    }
  },
  "nbformat": 4,
  "nbformat_minor": 5
}
