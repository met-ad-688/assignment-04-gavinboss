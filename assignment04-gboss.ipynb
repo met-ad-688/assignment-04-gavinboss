{
 "cells": [
  {
   "cell_type": "raw",
   "id": "74198406",
   "metadata": {
    "vscode": {
     "languageId": "raw"
    }
   },
   "source": [
    "---\n",
    "title: Assignment 04\n",
    "author:\n",
    "  - name: Gavin Boss\n",
    "    affiliations:\n",
    "      - id: bu\n",
    "        name: Boston University\n",
    "        city: Boston\n",
    "        state: MA\n",
    "number-sections: true\n",
    "date: '2025-10-04'\n",
    "date-modified: today\n",
    "date-format: long\n",
    "format:\n",
    "  docx:\n",
    "    toc: true\n",
    "    toc-depth: 2\n",
    "execute:\n",
    "  echo: false\n",
    "  eval: true\n",
    "  freeze: auto\n",
    "---"
   ]
  },
  {
   "cell_type": "markdown",
   "id": "7b950b77",
   "metadata": {},
   "source": [
    "# Load the Dataset\n"
   ]
  },
  {
   "cell_type": "code",
   "execution_count": 1,
   "id": "808a702e",
   "metadata": {},
   "outputs": [
    {
     "name": "stderr",
     "output_type": "stream",
     "text": [
      "Setting default log level to \"WARN\".\n",
      "To adjust logging level use sc.setLogLevel(newLevel). For SparkR, use setLogLevel(newLevel).\n",
      "25/10/08 00:43:26 WARN NativeCodeLoader: Unable to load native-hadoop library for your platform... using builtin-java classes where applicable\n",
      "                                                                                \r"
     ]
    }
   ],
   "source": [
    "from pyspark.sql import SparkSession\n",
    "import pandas as pd\n",
    "import plotly.express as px\n",
    "import plotly.io as pio\n",
    "import numpy as np\n",
    "\n",
    "np.random.seed(42)\n",
    "\n",
    "pio.renderers.default = \"notebook+notebook_connected+vscode\"\n",
    "\n",
    "# Initialize Spark Session\n",
    "spark = SparkSession.builder.appName(\"LightcastData\").getOrCreate()\n",
    "\n",
    "# Load Data\n",
    "df = spark.read.option(\"header\", \"true\").option(\"inferSchema\", \"true\").option(\"multiLine\",\"true\").option(\"escape\", \"\\\"\").csv(\"data/lightcast_job_postings.csv\")\n",
    "\n",
    "# Show Schema and Sample Data\n",
    "# print(\"---This is Diagnostic check, No need to print it in the final doc---\")\n",
    "\n",
    "# df.printSchema() # comment this line when rendering the submission\n",
    "# df.show(5)"
   ]
  },
  {
   "cell_type": "markdown",
   "id": "23045865",
   "metadata": {},
   "source": [
    "# Feature Engineering\n"
   ]
  },
  {
   "cell_type": "code",
   "execution_count": 2,
   "id": "0ccc424d",
   "metadata": {},
   "outputs": [
    {
     "name": "stderr",
     "output_type": "stream",
     "text": [
      "                                                                                \r"
     ]
    },
    {
     "name": "stdout",
     "output_type": "stream",
     "text": [
      "+------+--------------------------------------+--------------------------------------+\n",
      "|SALARY|features                              |features_poly                         |\n",
      "+------+--------------------------------------+--------------------------------------+\n",
      "|192800|(9,[0,1,4,7],[6.0,55.0,1.0,1.0])      |(9,[0,1,4,7],[6.0,55.0,1.0,1.0])      |\n",
      "|125900|(9,[0,1,4,7],[12.0,18.0,1.0,1.0])     |(9,[0,1,4,7],[12.0,18.0,1.0,1.0])     |\n",
      "|118560|[5.0,20.0,0.0,1.0,0.0,1.0,0.0,1.0,0.0]|[5.0,20.0,0.0,1.0,0.0,1.0,0.0,1.0,0.0]|\n",
      "|192800|(9,[0,1,4,7],[6.0,55.0,1.0,1.0])      |(9,[0,1,4,7],[6.0,55.0,1.0,1.0])      |\n",
      "|116500|(9,[0,1,4,7],[12.0,16.0,1.0,1.0])     |(9,[0,1,4,7],[12.0,16.0,1.0,1.0])     |\n",
      "+------+--------------------------------------+--------------------------------------+\n",
      "only showing top 5 rows\n",
      "\n"
     ]
    },
    {
     "name": "stderr",
     "output_type": "stream",
     "text": [
      "25/10/08 00:44:03 WARN SparkStringUtils: Truncated the string representation of a plan since it was too large. This behavior can be adjusted by setting 'spark.sql.debug.maxToStringFields'.\n",
      "                                                                                \r"
     ]
    },
    {
     "name": "stdout",
     "output_type": "stream",
     "text": [
      "Training Data Count: 11604\n"
     ]
    },
    {
     "name": "stderr",
     "output_type": "stream",
     "text": [
      "[Stage 12:>                                                         (0 + 1) / 1]\r"
     ]
    },
    {
     "name": "stdout",
     "output_type": "stream",
     "text": [
      "Testing Data Count: 2812\n"
     ]
    },
    {
     "name": "stderr",
     "output_type": "stream",
     "text": [
      "                                                                                \r"
     ]
    }
   ],
   "source": [
    "#| eval: true\n",
    "#| echo: false\n",
    "#| fig-align: center\n",
    "\n",
    "from pyspark.sql.functions import col, pow\n",
    "from pyspark.ml.feature import StringIndexer, OneHotEncoder, VectorAssembler\n",
    "from pyspark.ml import Pipeline\n",
    "\n",
    "# Drop Missing Values in target variable and key features\n",
    "\n",
    "df = df.dropna(subset=[\n",
    "    \"SALARY\", \"MIN_YEARS_EXPERIENCE\",\"EMPLOYMENT_TYPE_NAME\",\"REMOTE_TYPE_NAME\",\n",
    "    \"DURATION\", \"IS_INTERNSHIP\",\"COMPANY_IS_STAFFING\", \"STATE_NAME\", \"MIN_EDULEVELS_NAME\"\n",
    "])\n",
    "\n",
    "# Selecting 2 categorical variables\n",
    "categorical_cols =[\n",
    "    \"REMOTE_TYPE_NAME\", \"EMPLOYMENT_TYPE_NAME\"\n",
    "]\n",
    "\n",
    "#Index and One-Hot encode\n",
    "indexers = [StringIndexer(inputCol=col, outputCol=f\"{col}_idx\", handleInvalid='skip') for col in categorical_cols]\n",
    "encoders = [OneHotEncoder(inputCol=f\"{col}_idx\", outputCol=f\"{col}_vec\") for col in categorical_cols]\n",
    "\n",
    "# Assemble base features (for GLR and Random Forrest)\n",
    "from pyspark.sql.functions import col, pow\n",
    "from pyspark.ml.feature import StringIndexer, OneHotEncoder, VectorAssembler\n",
    "from pyspark.ml import Pipeline\n",
    "\n",
    "assembler = VectorAssembler(\n",
    "    inputCols=[\n",
    "        \"MIN_YEARS_EXPERIENCE\", \"DURATION\",\n",
    "        \"IS_INTERNSHIP\", \"COMPANY_IS_STAFFING\"\n",
    "    ] + [f\"{col}_vec\" for col in categorical_cols],\n",
    "    outputCol=\"features\"\n",
    ")\n",
    "\n",
    "# Build pipeline and transform\n",
    "pipeline = Pipeline(stages=indexers + encoders + [assembler])\n",
    "data = pipeline.fit(df).transform(df)\n",
    "\n",
    "# Create squared term for Polynomical Regression\n",
    "data = data.withColumn(\"MIN_YEARS_EXPERIENCE_SQ\", pow(col(\"MIN_YEARS_EXPERIENCE\"),2))\n",
    "\n",
    "#Assemble polynomial features\n",
    "assembler_poly = VectorAssembler(\n",
    "    inputCols=[\n",
    "        \"MIN_YEARS_EXPERIENCE\", \"DURATION\",\n",
    "        \"IS_INTERNSHIP\", \"COMPANY_IS_STAFFING\"\n",
    "    ] + [f\"{col}_vec\" for col in categorical_cols],\n",
    "    outputCol=\"features_poly\"\n",
    ")\n",
    "\n",
    "data = assembler_poly.transform(data)\n",
    "\n",
    "data.select(\"SALARY\",\"features\", \"features_poly\").show(5, truncate=False)\n",
    "\n",
    "# Split into training and testing sets (80% training, 20% testing)\n",
    "train_data, test_data = data.randomSplit([0.8, 0.2], seed=42)\n",
    "\n",
    "# Check number of records in each\n",
    "print(\"Training Data Count:\", train_data.count())\n",
    "print(\"Testing Data Count:\", test_data.count())"
   ]
  },
  {
   "cell_type": "markdown",
   "id": "deda921f",
   "metadata": {},
   "source": [
    "# Train/Test Split\n"
   ]
  },
  {
   "cell_type": "code",
   "execution_count": 3,
   "id": "c63efeb3",
   "metadata": {},
   "outputs": [
    {
     "name": "stderr",
     "output_type": "stream",
     "text": [
      "                                                                                \r"
     ]
    },
    {
     "name": "stdout",
     "output_type": "stream",
     "text": [
      "Training Data Count: 11604\n"
     ]
    },
    {
     "name": "stderr",
     "output_type": "stream",
     "text": [
      "[Stage 18:>                                                         (0 + 1) / 1]\r"
     ]
    },
    {
     "name": "stdout",
     "output_type": "stream",
     "text": [
      "Testing Data Count: 2812\n"
     ]
    },
    {
     "name": "stderr",
     "output_type": "stream",
     "text": [
      "                                                                                \r"
     ]
    }
   ],
   "source": [
    "# Split into training and testing sets\n",
    "train_data, test_data = data.randomSplit([0.8, 0.2], seed=42)\n",
    "\n",
    "# Check number of records in each\n",
    "print(\"Training Data Count:\", train_data.count())\n",
    "print(\"Testing Data Count:\", test_data.count())"
   ]
  },
  {
   "cell_type": "markdown",
   "id": "44c8765c",
   "metadata": {},
   "source": [
    "- I chose the 80/20 split that was discussed during class, the data set is large enough that this split should be fine, and should account for enough of the data.\n",
    "\n",
    "# Regression_DF\n"
   ]
  },
  {
   "cell_type": "code",
   "execution_count": 4,
   "id": "7b3aaf88",
   "metadata": {},
   "outputs": [
    {
     "name": "stdout",
     "output_type": "stream",
     "text": [
      "+------+--------------------+--------------------+--------+-------------+-------------------+----------------+----------------------+------------------------------------------------------------------------------------+\n",
      "|SALARY|MIN_YEARS_EXPERIENCE|MAX_YEARS_EXPERIENCE|DURATION|IS_INTERNSHIP|COMPANY_IS_STAFFING|REMOTE_TYPE_NAME|EMPLOYMENT_TYPE_NAME  |EDUCATION_LEVELS_NAME                                                               |\n",
      "+------+--------------------+--------------------+--------+-------------+-------------------+----------------+----------------------+------------------------------------------------------------------------------------+\n",
      "|131100|2                   |2                   |11      |false        |false              |[None]          |Full-time (> 32 hours)|[\\n  \"Bachelor's degree\"\\n]                                                         |\n",
      "|136950|3                   |3                   |28      |false        |false              |Remote          |Full-time (> 32 hours)|[\\n  \"Bachelor's degree\",\\n  \"Master's degree\",\\n  \"Ph D  or professional degree\"\\n]|\n",
      "|136950|3                   |3                   |28      |false        |false              |Remote          |Full-time (> 32 hours)|[\\n  \"Bachelor's degree\",\\n  \"Master's degree\",\\n  \"Ph D  or professional degree\"\\n]|\n",
      "|104000|3                   |3                   |8       |false        |false              |[None]          |Full-time (> 32 hours)|[\\n  \"Bachelor's degree\"\\n]                                                         |\n",
      "|80000 |3                   |3                   |37      |false        |false              |[None]          |Full-time (> 32 hours)|[\\n  \"Bachelor's degree\"\\n]                                                         |\n",
      "+------+--------------------+--------------------+--------+-------------+-------------------+----------------+----------------------+------------------------------------------------------------------------------------+\n",
      "only showing top 5 rows\n",
      "\n"
     ]
    }
   ],
   "source": [
    "from pyspark.sql.functions import regexp_replace, trim, col\n",
    "from pyspark.sql.types import IntegerType\n",
    "\n",
    "regression_df = df.select(\n",
    "    \"SALARY\",\n",
    "    \"MIN_YEARS_EXPERIENCE\",\n",
    "    \"MAX_YEARS_EXPERIENCE\",\n",
    "    \"DURATION\",\n",
    "    \"IS_INTERNSHIP\",\n",
    "    \"COMPANY_IS_STAFFING\",\n",
    "    \"REMOTE_TYPE_NAME\",\n",
    "    \"EMPLOYMENT_TYPE_NAME\",\n",
    "    \"EDUCATION_LEVELS_NAME\"\n",
    ")\n",
    "\n",
    "regression_df = regression_df.withColumn(\n",
    "    \"EDUCATION_LEVELS_NAME\",\n",
    "    trim(regexp_replace(col(\"EDUCATION_LEVELS_NAME\"), r\"[\\.\\-]\", \" \"))\n",
    ")\n",
    "\n",
    "regression_df = regression_df.dropna(subset=[\n",
    "    \"SALARY\",\n",
    "    \"MIN_YEARS_EXPERIENCE\",\n",
    "    \"MAX_YEARS_EXPERIENCE\",\n",
    "    \"DURATION\",\n",
    "    \"IS_INTERNSHIP\",\n",
    "    \"COMPANY_IS_STAFFING\",\n",
    "    \"REMOTE_TYPE_NAME\",\n",
    "    \"EMPLOYMENT_TYPE_NAME\",\n",
    "    \"EDUCATION_LEVELS_NAME\"\n",
    "])\n",
    "\n",
    "# Convert Duration to numeric (in days)\n",
    "regression_df =regression_df.withColumn(\"DURATION\", col(\"DURATION\").cast(IntegerType()))\n",
    "\n",
    "regression_df.show(5, truncate=False)"
   ]
  },
  {
   "cell_type": "markdown",
   "id": "0d1e505c",
   "metadata": {},
   "source": [
    "# Linear Regression Model (OLS)\n"
   ]
  },
  {
   "cell_type": "code",
   "execution_count": 5,
   "id": "84dd958d",
   "metadata": {},
   "outputs": [
    {
     "name": "stderr",
     "output_type": "stream",
     "text": [
      "                                                                                \r"
     ]
    },
    {
     "name": "stdout",
     "output_type": "stream",
     "text": [
      "+------+---------------------------------------+\n",
      "|SALARY|features                               |\n",
      "+------+---------------------------------------+\n",
      "|131100|(10,[0,1,2,5,8],[2.0,2.0,11.0,1.0,1.0])|\n",
      "|136950|(10,[0,1,2,6,8],[3.0,3.0,28.0,1.0,1.0])|\n",
      "|136950|(10,[0,1,2,6,8],[3.0,3.0,28.0,1.0,1.0])|\n",
      "|104000|(10,[0,1,2,5,8],[3.0,3.0,8.0,1.0,1.0]) |\n",
      "|80000 |(10,[0,1,2,5,8],[3.0,3.0,37.0,1.0,1.0])|\n",
      "+------+---------------------------------------+\n",
      "only showing top 5 rows\n",
      "\n"
     ]
    }
   ],
   "source": [
    "from pyspark.sql.functions import regexp_replace, trim\n",
    "\n",
    "regression_df = regression_df.withColumn(\"EDUCATION_LEVELS_NAME\", trim(regexp_replace(col(\"EDUCATION_LEVELS_NAME\"), r\"[\\.\\-]\", \" \")))\n",
    "\n",
    "# Index and One-Hot Encode\n",
    "indexers = [StringIndexer(inputCol=col, outputCol=f\"{col}_idx\", handleInvalid='skip') for col in categorical_cols]\n",
    "encoders = [OneHotEncoder(inputCol=f\"{col}_idx\", outputCol=f\"{col}_vec\") for col in categorical_cols]\n",
    "\n",
    "# Assemble base features (for GLR and Random Forrest)\n",
    "assembler = VectorAssembler(\n",
    "    inputCols=[\n",
    "        \"MIN_YEARS_EXPERIENCE\", \"MAX_YEARS_EXPERIENCE\", \"DURATION\",\n",
    "        \"IS_INTERNSHIP\", \"COMPANY_IS_STAFFING\"\n",
    "    ] + [f\"{col}_vec\" for col in categorical_cols],\n",
    "    outputCol=\"features\"\n",
    ")\n",
    "\n",
    "pipeline_reg = Pipeline(stages=indexers + encoders + [assembler])\n",
    "regression_data = pipeline_reg.fit(regression_df).transform(regression_df)\n",
    "\n",
    "regression_data.select(\"SALARY\",\"features\").show(5, truncate=False)"
   ]
  },
  {
   "cell_type": "code",
   "execution_count": 6,
   "id": "b42aa839",
   "metadata": {},
   "outputs": [
    {
     "name": "stderr",
     "output_type": "stream",
     "text": [
      "                                                                                \r"
     ]
    },
    {
     "name": "stdout",
     "output_type": "stream",
     "text": [
      "(2243, 14)\n"
     ]
    },
    {
     "name": "stderr",
     "output_type": "stream",
     "text": [
      "                                                                                \r"
     ]
    },
    {
     "name": "stdout",
     "output_type": "stream",
     "text": [
      "(1848, 14)\n"
     ]
    },
    {
     "name": "stderr",
     "output_type": "stream",
     "text": [
      "[Stage 35:>                                                         (0 + 1) / 1]\r"
     ]
    },
    {
     "name": "stdout",
     "output_type": "stream",
     "text": [
      "(395, 14)\n"
     ]
    },
    {
     "name": "stderr",
     "output_type": "stream",
     "text": [
      "                                                                                \r"
     ]
    }
   ],
   "source": [
    "# Split Data\n",
    "regression_train, regression_test = regression_data.randomSplit([0.8, 0.2], seed=42)\n",
    "print((regression_data.count(), len(regression_data.columns)))\n",
    "print((regression_train.count(), len(regression_train.columns)))\n",
    "print((regression_test.count(), len(regression_test.columns)))"
   ]
  },
  {
   "cell_type": "code",
   "execution_count": 7,
   "id": "980ab239",
   "metadata": {},
   "outputs": [
    {
     "name": "stderr",
     "output_type": "stream",
     "text": [
      "                                                                                \r"
     ]
    }
   ],
   "source": [
    "from pyspark.ml.regression import GeneralizedLinearRegression, LinearRegression\n",
    "\n",
    "feature_names = assembler.getInputCols()\n",
    "\n",
    "glr = GeneralizedLinearRegression(\n",
    "    featuresCol=\"features\",\n",
    "    labelCol=\"SALARY\",\n",
    "    family=\"gaussian\",\n",
    "    link=\"identity\",\n",
    "    maxIter=10,\n",
    "    regParam=0.3\n",
    ")\n",
    "\n",
    "glr_model = glr.fit(regression_data)\n",
    "summary = glr_model.summary"
   ]
  },
  {
   "cell_type": "code",
   "execution_count": 8,
   "id": "077a82cb",
   "metadata": {},
   "outputs": [
    {
     "name": "stdout",
     "output_type": "stream",
     "text": [
      "Intercept: 75819.4000\n",
      "Coefficients: \n",
      "  Feature 1: 4215.6844\n",
      "  Feature 2: 4215.6844\n",
      "  Feature 3: -23.7725\n",
      "  Feature 4: -23942.2288\n",
      "  Feature 5: -98.6466\n",
      "  Feature 6: 6430.6643\n",
      "  Feature 7: 16463.9439\n",
      "  Feature 8: 655.1948\n",
      "  Feature 9: -9251.7034\n",
      "  Feature 10: -12761.7200\n"
     ]
    }
   ],
   "source": [
    "# Coefficients and Intercept\n",
    "print(\"Intercept: {:.4f}\".format(glr_model.intercept))\n",
    "print(\"Coefficients: \")\n",
    "for i, coef in enumerate(glr_model.coefficients):\n",
    "    print(f\"  Feature {i + 1}: {coef:.4f}\")"
   ]
  },
  {
   "cell_type": "code",
   "execution_count": 9,
   "id": "b2c4bf4e",
   "metadata": {},
   "outputs": [
    {
     "name": "stdout",
     "output_type": "stream",
     "text": [
      "\n",
      "---Regression Summary---\n"
     ]
    },
    {
     "name": "stderr",
     "output_type": "stream",
     "text": [
      "[Stage 39:>                                                         (0 + 1) / 1]\r"
     ]
    },
    {
     "name": "stdout",
     "output_type": "stream",
     "text": [
      "Coefficient Standard Errors: ['57432.0320', '57432.0320', '40.9532', '12518.4270', '1651.7511', '5327.5134', '5421.5678', '6892.7578', '7503.5432', '8182.7045', '9011.3793']\n",
      "T-values: ['0.0734', '0.0734', '-0.5805', '-1.9126', '-0.0597', '1.2071', '3.0367', '0.0951', '-1.2330', '-1.5596', '8.4137']\n",
      "P-values: ['0.9415', '0.9415', '0.5617', '0.0559', '0.9524', '0.2275', '0.0024', '0.9243', '0.2177', '0.1190', '0.0000']\n"
     ]
    },
    {
     "name": "stderr",
     "output_type": "stream",
     "text": [
      "                                                                                \r"
     ]
    }
   ],
   "source": [
    "# Summary stats\n",
    "\n",
    "print(\"\\n---Regression Summary---\")\n",
    "print(\"Coefficient Standard Errors:\", [f\"{val:.4f}\" for val in summary.coefficientStandardErrors])\n",
    "print(\"T-values:\", [f\"{val:.4f}\" for val in summary.tValues])\n",
    "print(\"P-values:\", [f\"{val:.4f}\" for val in summary.pValues])"
   ]
  },
  {
   "cell_type": "code",
   "execution_count": 10,
   "id": "609def41",
   "metadata": {},
   "outputs": [
    {
     "name": "stderr",
     "output_type": "stream",
     "text": [
      "[Stage 42:>                                                         (0 + 1) / 1]\r"
     ]
    },
    {
     "name": "stdout",
     "output_type": "stream",
     "text": [
      "nullDeviance: 2728391925894.5732\n",
      "Residual DF Null: 2232\n",
      "Residual DF: 2232\n"
     ]
    },
    {
     "name": "stderr",
     "output_type": "stream",
     "text": [
      "[Stage 43:>                                                         (0 + 1) / 1]\r"
     ]
    },
    {
     "name": "stdout",
     "output_type": "stream",
     "text": [
      "AIC: 52299.8485\n",
      "Deviance: 1738269402130.5212\n",
      "Explained Variance (from deviance): 0.3628960027212421\n"
     ]
    },
    {
     "name": "stderr",
     "output_type": "stream",
     "text": [
      "                                                                                \r"
     ]
    }
   ],
   "source": [
    "print(f\"nullDeviance: {summary.nullDeviance:.4f}\")\n",
    "print(f\"Residual DF Null: {summary.residualDegreeOfFreedom}\")\n",
    "print(f\"Residual DF: {summary.residualDegreeOfFreedom}\")\n",
    "print(f\"AIC: {summary.aic:.4f}\")\n",
    "print(f\"Deviance: {summary.deviance:.4f}\")\n",
    "explained_variance_deviance = (summary.nullDeviance - summary.deviance) / summary.nullDeviance\n",
    "print(\"Explained Variance (from deviance):\", explained_variance_deviance)"
   ]
  },
  {
   "cell_type": "code",
   "execution_count": 11,
   "id": "34007f6c",
   "metadata": {},
   "outputs": [
    {
     "name": "stdout",
     "output_type": "stream",
     "text": [
      "Length of features: 11\n",
      "Length of coefficients: 11\n",
      "Length of standard errors: 11\n",
      "Length of t-values: 11\n",
      "Length of p-values: 11\n"
     ]
    }
   ],
   "source": [
    "# Pull feature names directly from Java backend\n",
    "\n",
    "feature_names = summary._call_java(\"featureNames\")\n",
    "\n",
    "# Construct full table including intercept\n",
    "features = [\"Intercept\"] + feature_names\n",
    "coef = [glr_model.intercept] + list(glr_model.coefficients)\n",
    "se = list(summary.coefficientStandardErrors)\n",
    "tvals = list(summary.tValues)\n",
    "pvals = list(summary.pValues)\n",
    "\n",
    "print(\"Length of features:\", len(features))\n",
    "print(\"Length of coefficients:\", len(coef))\n",
    "print(\"Length of standard errors:\", len(se))\n",
    "print(\"Length of t-values:\", len(tvals))\n",
    "print(\"Length of p-values:\", len(pvals))"
   ]
  },
  {
   "cell_type": "code",
   "execution_count": 12,
   "id": "7ced265c",
   "metadata": {},
   "outputs": [
    {
     "data": {
      "text/html": [
       "<table border=\"1\" class=\"dataframe\">\n",
       "  <thead>\n",
       "    <tr style=\"text-align: right;\">\n",
       "      <th></th>\n",
       "      <th>Features</th>\n",
       "      <th>Estimate</th>\n",
       "      <th>Std. Error</th>\n",
       "      <th>t value</th>\n",
       "      <th>P-value</th>\n",
       "    </tr>\n",
       "  </thead>\n",
       "  <tbody>\n",
       "    <tr>\n",
       "      <th>0</th>\n",
       "      <td>Intercept</td>\n",
       "      <td>75819.4000</td>\n",
       "      <td>57432.0320</td>\n",
       "      <td>0.0734</td>\n",
       "      <td>0.9415</td>\n",
       "    </tr>\n",
       "    <tr>\n",
       "      <th>1</th>\n",
       "      <td>MIN_YEARS_EXPERIENCE</td>\n",
       "      <td>4215.6844</td>\n",
       "      <td>57432.0320</td>\n",
       "      <td>0.0734</td>\n",
       "      <td>0.9415</td>\n",
       "    </tr>\n",
       "    <tr>\n",
       "      <th>2</th>\n",
       "      <td>MAX_YEARS_EXPERIENCE</td>\n",
       "      <td>4215.6844</td>\n",
       "      <td>40.9532</td>\n",
       "      <td>-0.5805</td>\n",
       "      <td>0.5617</td>\n",
       "    </tr>\n",
       "    <tr>\n",
       "      <th>3</th>\n",
       "      <td>DURATION</td>\n",
       "      <td>-23.7725</td>\n",
       "      <td>12518.4270</td>\n",
       "      <td>-1.9126</td>\n",
       "      <td>0.0559</td>\n",
       "    </tr>\n",
       "    <tr>\n",
       "      <th>4</th>\n",
       "      <td>IS_INTERNSHIP</td>\n",
       "      <td>-23942.2288</td>\n",
       "      <td>1651.7511</td>\n",
       "      <td>-0.0597</td>\n",
       "      <td>0.9524</td>\n",
       "    </tr>\n",
       "    <tr>\n",
       "      <th>5</th>\n",
       "      <td>COMPANY_IS_STAFFING</td>\n",
       "      <td>-98.6466</td>\n",
       "      <td>5327.5134</td>\n",
       "      <td>1.2071</td>\n",
       "      <td>0.2275</td>\n",
       "    </tr>\n",
       "    <tr>\n",
       "      <th>6</th>\n",
       "      <td>REMOTE_TYPE_NAME_vec_[None]</td>\n",
       "      <td>6430.6643</td>\n",
       "      <td>5421.5678</td>\n",
       "      <td>3.0367</td>\n",
       "      <td>0.0024</td>\n",
       "    </tr>\n",
       "    <tr>\n",
       "      <th>7</th>\n",
       "      <td>REMOTE_TYPE_NAME_vec_Remote</td>\n",
       "      <td>16463.9439</td>\n",
       "      <td>6892.7578</td>\n",
       "      <td>0.0951</td>\n",
       "      <td>0.9243</td>\n",
       "    </tr>\n",
       "    <tr>\n",
       "      <th>8</th>\n",
       "      <td>REMOTE_TYPE_NAME_vec_Hybrid Remote</td>\n",
       "      <td>655.1948</td>\n",
       "      <td>7503.5432</td>\n",
       "      <td>-1.2330</td>\n",
       "      <td>0.2177</td>\n",
       "    </tr>\n",
       "    <tr>\n",
       "      <th>9</th>\n",
       "      <td>EMPLOYMENT_TYPE_NAME_vec_Full-time (&gt; 32 hours)</td>\n",
       "      <td>-9251.7034</td>\n",
       "      <td>8182.7045</td>\n",
       "      <td>-1.5596</td>\n",
       "      <td>0.1190</td>\n",
       "    </tr>\n",
       "    <tr>\n",
       "      <th>10</th>\n",
       "      <td>EMPLOYMENT_TYPE_NAME_vec_Part-time (â‰¤ 32 hours)</td>\n",
       "      <td>-12761.7200</td>\n",
       "      <td>9011.3793</td>\n",
       "      <td>8.4137</td>\n",
       "      <td>0.0000</td>\n",
       "    </tr>\n",
       "  </tbody>\n",
       "</table>"
      ],
      "text/plain": [
       "<IPython.core.display.HTML object>"
      ]
     },
     "execution_count": 12,
     "metadata": {},
     "output_type": "execute_result"
    }
   ],
   "source": [
    "import pandas as pd\n",
    "from tabulate import tabulate\n",
    "from IPython.display import HTML\n",
    "\n",
    "coef_table = pd.DataFrame({\n",
    "    \"Features\": features,\n",
    "    \"Estimate\": [f\"{v:.4f}\" if v is not None else None for v in coef],\n",
    "    \"Std. Error\": [f\"{v:.4f}\" if v is not None else None for v in se],\n",
    "    \"t value\": [f\"{v:.4f}\" if v is not None else None for v in tvals],\n",
    "    \"P-value\": [f\"{v:.4f}\" if v is not None else None for v in pvals]\n",
    "})\n",
    "\n",
    "# Save Report\n",
    "coef_table.to_csv(\"output/glr_summary.csb\", index=False)\n",
    "\n",
    "# Optional pretty print\n",
    "\n",
    "HTML (coef_table.to_html())"
   ]
  },
  {
   "cell_type": "markdown",
   "id": "a3d36f52",
   "metadata": {},
   "source": [
    "# Generalized Linear Regression Summary\n",
    "Based on the features, two significant predictors of salary include remote type name, and employment type name (part time). This makes sense when looking at the data, as remote work tends to pay higher than in person work, so jobs that are broken up by remote, hybrid, or onsite will have different pay scales, while employment type names will be broken up differently because of the difference in salary between part time and full time work. The coefficients have two features that have significant predictors, feature 6 is a positive predictor while feature 10 is a negative predictor. Other features do not have meaningful impacts on the target. The model performance is moderate and could be improved.\n",
    "- Performance\n",
    "    - Based on the Explained Variance this model is calculated to have a ~36% of the varience in salary which indicates that there is a moderate performance, but there is still room for improvement.\n",
    "- Other Features\n",
    "    - Years of experience, Internships, Full time employment are not significant predictors of salary in this model. This does not mean that they do not have significant impacts on salary as a whole, it just means that in terms of this model that there is not a trend that indicates that these features have a significant impact on salary.\n",
    "\n",
    "# Polynomical Regression\n"
   ]
  },
  {
   "cell_type": "code",
   "execution_count": 13,
   "id": "4b92c995",
   "metadata": {},
   "outputs": [
    {
     "name": "stdout",
     "output_type": "stream",
     "text": [
      "+------+---------------------------------------------+\n",
      "|SALARY|features_poly                                |\n",
      "+------+---------------------------------------------+\n",
      "|131100|(11,[0,1,2,3,6,9],[2.0,4.0,2.0,11.0,1.0,1.0])|\n",
      "|136950|(11,[0,1,2,3,7,9],[3.0,9.0,3.0,28.0,1.0,1.0])|\n",
      "|136950|(11,[0,1,2,3,7,9],[3.0,9.0,3.0,28.0,1.0,1.0])|\n",
      "|104000|(11,[0,1,2,3,6,9],[3.0,9.0,3.0,8.0,1.0,1.0]) |\n",
      "|80000 |(11,[0,1,2,3,6,9],[3.0,9.0,3.0,37.0,1.0,1.0])|\n",
      "+------+---------------------------------------------+\n",
      "only showing top 5 rows\n",
      "\n"
     ]
    }
   ],
   "source": [
    "#| eval: true\n",
    "#| echo: false\n",
    "#| fig-align: center\n",
    "\n",
    "# Index and One-Hot encode\n",
    "\n",
    "poly_data = regression_data.withColumn(\"MIN_YEARS_EXPERIENCE_SQ\", pow(col(\"MIN_YEARS_EXPERIENCE\"),2))\n",
    "\n",
    "assembler_poly = VectorAssembler(\n",
    "    inputCols=[\n",
    "        \"MIN_YEARS_EXPERIENCE\", \"MIN_YEARS_EXPERIENCE_SQ\", \"MAX_YEARS_EXPERIENCE\", \"DURATION\",\n",
    "        \"IS_INTERNSHIP\", \"COMPANY_IS_STAFFING\"\n",
    "    ] + [f\"{col}_vec\" for col in categorical_cols],\n",
    "    outputCol=\"features_poly\"\n",
    ")  \n",
    "\n",
    "poly_data = assembler_poly.transform(poly_data)\n",
    "\n",
    "poly_data.select(\"SALARY\",\"features_poly\").show(5, truncate=False)"
   ]
  },
  {
   "cell_type": "code",
   "execution_count": 14,
   "id": "9e3b5658",
   "metadata": {},
   "outputs": [
    {
     "name": "stderr",
     "output_type": "stream",
     "text": [
      "                                                                                \r"
     ]
    },
    {
     "name": "stdout",
     "output_type": "stream",
     "text": [
      "(2243, 16)\n"
     ]
    },
    {
     "name": "stderr",
     "output_type": "stream",
     "text": [
      "                                                                                \r"
     ]
    },
    {
     "name": "stdout",
     "output_type": "stream",
     "text": [
      "(1848, 16)\n"
     ]
    },
    {
     "name": "stderr",
     "output_type": "stream",
     "text": [
      "[Stage 51:>                                                         (0 + 1) / 1]\r"
     ]
    },
    {
     "name": "stdout",
     "output_type": "stream",
     "text": [
      "(395, 16)\n"
     ]
    },
    {
     "name": "stderr",
     "output_type": "stream",
     "text": [
      "                                                                                \r"
     ]
    }
   ],
   "source": [
    "# Split Data\n",
    "polyreg_train, polyreg_test = poly_data.randomSplit([0.8, 0.2], seed=42)\n",
    "print((poly_data.count(), len(poly_data.columns)))\n",
    "print((polyreg_train.count(), len(polyreg_train.columns)))\n",
    "print((polyreg_test.count(), len(polyreg_test.columns)))"
   ]
  },
  {
   "cell_type": "code",
   "execution_count": 15,
   "id": "da8abe23",
   "metadata": {},
   "outputs": [
    {
     "name": "stderr",
     "output_type": "stream",
     "text": [
      "                                                                                \r"
     ]
    }
   ],
   "source": [
    "from pyspark.ml.regression import GeneralizedLinearRegression, LinearRegression\n",
    "\n",
    "feature_names = assembler.getInputCols()\n",
    "\n",
    "poly_glr_max_years_model = GeneralizedLinearRegression(\n",
    "    featuresCol=\"features\",\n",
    "    labelCol=\"SALARY\",\n",
    "    family=\"gaussian\",\n",
    "    link=\"identity\",\n",
    "    maxIter=10,\n",
    "    regParam=0.3\n",
    ")\n",
    "\n",
    "poly_glr_max_years_model = poly_glr_max_years_model.fit(poly_data)\n",
    "poly_summary = poly_glr_max_years_model.summary"
   ]
  },
  {
   "cell_type": "code",
   "execution_count": 16,
   "id": "3f82d826",
   "metadata": {},
   "outputs": [
    {
     "name": "stdout",
     "output_type": "stream",
     "text": [
      "Intercept: 75819.4000\n",
      "Coefficients: \n",
      "  Feature 1: 4215.6844\n",
      "  Feature 2: 4215.6844\n",
      "  Feature 3: -23.7725\n",
      "  Feature 4: -23942.2288\n",
      "  Feature 5: -98.6466\n",
      "  Feature 6: 6430.6643\n",
      "  Feature 7: 16463.9439\n",
      "  Feature 8: 655.1948\n",
      "  Feature 9: -9251.7034\n",
      "  Feature 10: -12761.7200\n",
      "\n",
      "---Regression Summary---\n"
     ]
    },
    {
     "name": "stderr",
     "output_type": "stream",
     "text": [
      "[Stage 55:>                                                         (0 + 1) / 1]\r"
     ]
    },
    {
     "name": "stdout",
     "output_type": "stream",
     "text": [
      "Coefficient Standard Errors: ['57432.0320', '57432.0320', '40.9532', '12518.4270', '1651.7511', '5327.5134', '5421.5678', '6892.7578', '7503.5432', '8182.7045', '9011.3793']\n",
      "T-values: ['0.0734', '0.0734', '-0.5805', '-1.9126', '-0.0597', '1.2071', '3.0367', '0.0951', '-1.2330', '-1.5596', '8.4137']\n",
      "P-values: ['0.9415', '0.9415', '0.5617', '0.0559', '0.9524', '0.2275', '0.0024', '0.9243', '0.2177', '0.1190', '0.0000']\n"
     ]
    },
    {
     "name": "stderr",
     "output_type": "stream",
     "text": [
      "                                                                                \r"
     ]
    }
   ],
   "source": [
    "# Coefficients and Intercept\n",
    "print(\"Intercept: {:.4f}\".format(poly_glr_max_years_model.intercept))\n",
    "print(\"Coefficients: \")\n",
    "for i, coef in enumerate(poly_glr_max_years_model.coefficients):\n",
    "    print(f\"  Feature {i + 1}: {coef:.4f}\")\n",
    "\n",
    "    # Summary stats\n",
    "\n",
    "print(\"\\n---Regression Summary---\")\n",
    "print(\"Coefficient Standard Errors:\", [f\"{val:.4f}\" for val in poly_summary.coefficientStandardErrors])\n",
    "print(\"T-values:\", [f\"{val:.4f}\" for val in poly_summary.tValues])\n",
    "print(\"P-values:\", [f\"{val:.4f}\" for val in poly_summary.pValues])"
   ]
  },
  {
   "cell_type": "code",
   "execution_count": 17,
   "id": "2c47830f",
   "metadata": {},
   "outputs": [
    {
     "name": "stderr",
     "output_type": "stream",
     "text": [
      "                                                                                \r"
     ]
    },
    {
     "name": "stdout",
     "output_type": "stream",
     "text": [
      "nullDeviance: 2728391925894.5732\n",
      "Residual DF Null: 2232\n",
      "Residual DF: 2232\n"
     ]
    },
    {
     "name": "stderr",
     "output_type": "stream",
     "text": [
      "[Stage 59:>                                                         (0 + 1) / 1]\r"
     ]
    },
    {
     "name": "stdout",
     "output_type": "stream",
     "text": [
      "AIC: 52299.8485\n",
      "Deviance: 1738269402130.5212\n",
      "Explained Variance (from deviance): 0.3628960027212421\n"
     ]
    },
    {
     "name": "stderr",
     "output_type": "stream",
     "text": [
      "                                                                                \r"
     ]
    }
   ],
   "source": [
    "print(f\"nullDeviance: {poly_summary.nullDeviance:.4f}\")\n",
    "print(f\"Residual DF Null: {poly_summary.residualDegreeOfFreedom}\")\n",
    "print(f\"Residual DF: {poly_summary.residualDegreeOfFreedom}\")\n",
    "print(f\"AIC: {poly_summary.aic:.4f}\")\n",
    "print(f\"Deviance: {poly_summary.deviance:.4f}\")\n",
    "poly_explained_variance_deviance = (poly_summary.nullDeviance - poly_summary.deviance) / poly_summary.nullDeviance\n",
    "print(\"Explained Variance (from deviance):\", poly_explained_variance_deviance)"
   ]
  },
  {
   "cell_type": "code",
   "execution_count": 18,
   "id": "20c135d8",
   "metadata": {},
   "outputs": [
    {
     "name": "stdout",
     "output_type": "stream",
     "text": [
      "Length of features: 11\n",
      "Length of coefficients: 11\n",
      "Length of standard errors: 11\n",
      "Length of t-values: 11\n",
      "Length of p-values: 11\n"
     ]
    }
   ],
   "source": [
    "# Pull feature names directly from Java backend\n",
    "\n",
    "feature_names = poly_summary._call_java(\"featureNames\")\n",
    "\n",
    "# Construct full table including intercept\n",
    "poly_features = [\"Intercept\"] + feature_names\n",
    "poly_coef = [poly_glr_max_years_model.intercept] + list(poly_glr_max_years_model.coefficients)\n",
    "poly_se = list(poly_summary.coefficientStandardErrors)\n",
    "poly_tvals = list(poly_summary.tValues)\n",
    "poly_pvals = list(poly_summary.pValues)\n",
    "\n",
    "print(\"Length of features:\", len(poly_features))\n",
    "print(\"Length of coefficients:\", len(poly_coef))\n",
    "print(\"Length of standard errors:\", len(poly_se))\n",
    "print(\"Length of t-values:\", len(poly_tvals))\n",
    "print(\"Length of p-values:\", len(poly_pvals))"
   ]
  },
  {
   "cell_type": "code",
   "execution_count": 19,
   "id": "0b4fd10f",
   "metadata": {},
   "outputs": [
    {
     "data": {
      "text/html": [
       "<table border=\"1\" class=\"dataframe\">\n",
       "  <thead>\n",
       "    <tr style=\"text-align: right;\">\n",
       "      <th></th>\n",
       "      <th>Features</th>\n",
       "      <th>Estimate</th>\n",
       "      <th>Std. Error</th>\n",
       "      <th>t value</th>\n",
       "      <th>P-value</th>\n",
       "    </tr>\n",
       "  </thead>\n",
       "  <tbody>\n",
       "    <tr>\n",
       "      <th>0</th>\n",
       "      <td>Intercept</td>\n",
       "      <td>75819.4000</td>\n",
       "      <td>57432.0320</td>\n",
       "      <td>0.0734</td>\n",
       "      <td>0.9415</td>\n",
       "    </tr>\n",
       "    <tr>\n",
       "      <th>1</th>\n",
       "      <td>MIN_YEARS_EXPERIENCE</td>\n",
       "      <td>4215.6844</td>\n",
       "      <td>57432.0320</td>\n",
       "      <td>0.0734</td>\n",
       "      <td>0.9415</td>\n",
       "    </tr>\n",
       "    <tr>\n",
       "      <th>2</th>\n",
       "      <td>MAX_YEARS_EXPERIENCE</td>\n",
       "      <td>4215.6844</td>\n",
       "      <td>40.9532</td>\n",
       "      <td>-0.5805</td>\n",
       "      <td>0.5617</td>\n",
       "    </tr>\n",
       "    <tr>\n",
       "      <th>3</th>\n",
       "      <td>DURATION</td>\n",
       "      <td>-23.7725</td>\n",
       "      <td>12518.4270</td>\n",
       "      <td>-1.9126</td>\n",
       "      <td>0.0559</td>\n",
       "    </tr>\n",
       "    <tr>\n",
       "      <th>4</th>\n",
       "      <td>IS_INTERNSHIP</td>\n",
       "      <td>-23942.2288</td>\n",
       "      <td>1651.7511</td>\n",
       "      <td>-0.0597</td>\n",
       "      <td>0.9524</td>\n",
       "    </tr>\n",
       "    <tr>\n",
       "      <th>5</th>\n",
       "      <td>COMPANY_IS_STAFFING</td>\n",
       "      <td>-98.6466</td>\n",
       "      <td>5327.5134</td>\n",
       "      <td>1.2071</td>\n",
       "      <td>0.2275</td>\n",
       "    </tr>\n",
       "    <tr>\n",
       "      <th>6</th>\n",
       "      <td>REMOTE_TYPE_NAME_vec_[None]</td>\n",
       "      <td>6430.6643</td>\n",
       "      <td>5421.5678</td>\n",
       "      <td>3.0367</td>\n",
       "      <td>0.0024</td>\n",
       "    </tr>\n",
       "    <tr>\n",
       "      <th>7</th>\n",
       "      <td>REMOTE_TYPE_NAME_vec_Remote</td>\n",
       "      <td>16463.9439</td>\n",
       "      <td>6892.7578</td>\n",
       "      <td>0.0951</td>\n",
       "      <td>0.9243</td>\n",
       "    </tr>\n",
       "    <tr>\n",
       "      <th>8</th>\n",
       "      <td>REMOTE_TYPE_NAME_vec_Hybrid Remote</td>\n",
       "      <td>655.1948</td>\n",
       "      <td>7503.5432</td>\n",
       "      <td>-1.2330</td>\n",
       "      <td>0.2177</td>\n",
       "    </tr>\n",
       "    <tr>\n",
       "      <th>9</th>\n",
       "      <td>EMPLOYMENT_TYPE_NAME_vec_Full-time (&gt; 32 hours)</td>\n",
       "      <td>-9251.7034</td>\n",
       "      <td>8182.7045</td>\n",
       "      <td>-1.5596</td>\n",
       "      <td>0.1190</td>\n",
       "    </tr>\n",
       "    <tr>\n",
       "      <th>10</th>\n",
       "      <td>EMPLOYMENT_TYPE_NAME_vec_Part-time (â‰¤ 32 hours)</td>\n",
       "      <td>-12761.7200</td>\n",
       "      <td>9011.3793</td>\n",
       "      <td>8.4137</td>\n",
       "      <td>0.0000</td>\n",
       "    </tr>\n",
       "  </tbody>\n",
       "</table>"
      ],
      "text/plain": [
       "<IPython.core.display.HTML object>"
      ]
     },
     "execution_count": 19,
     "metadata": {},
     "output_type": "execute_result"
    }
   ],
   "source": [
    "import pandas as pd\n",
    "from tabulate import tabulate\n",
    "from IPython.display import HTML\n",
    "\n",
    "poly_coef_table = pd.DataFrame({\n",
    "    \"Features\": poly_features,\n",
    "    \"Estimate\": [f\"{v:.4f}\" if v is not None else None for v in poly_coef],\n",
    "    \"Std. Error\": [f\"{v:.4f}\" if v is not None else None for v in poly_se],\n",
    "    \"t value\": [f\"{v:.4f}\" if v is not None else None for v in poly_tvals],\n",
    "    \"P-value\": [f\"{v:.4f}\" if v is not None else None for v in poly_pvals]\n",
    "})\n",
    "\n",
    "# Save Report\n",
    "poly_coef_table.to_csv(\"output/poly_summary.csb\", index=False)\n",
    "\n",
    "# Optional pretty print\n",
    "\n",
    "HTML (poly_coef_table.to_html())"
   ]
  },
  {
   "cell_type": "markdown",
   "id": "cf659c9c",
   "metadata": {},
   "source": [
    "# Poly Regression Summary\n",
    "\n",
    "This data has similar impacts to the Linear regression model, Remote_TYPE_NAME having a positive impact and Employment_TYPE_NAME (part time) have a negative impact which are significant predictors of salary according to this model. While other features are not significant predictors. The model performance is the same based on the explained varience which is at 36%.\n",
    "\n",
    "# Random Forest Regression\n"
   ]
  },
  {
   "cell_type": "code",
   "execution_count": 20,
   "id": "0988fb19",
   "metadata": {},
   "outputs": [
    {
     "name": "stderr",
     "output_type": "stream",
     "text": [
      "25/10/08 00:46:54 WARN DAGScheduler: Broadcasting large task binary with size 1546.5 KiB\n",
      "25/10/08 00:46:55 WARN DAGScheduler: Broadcasting large task binary with size 2.7 MiB\n",
      "WARNING: An illegal reflective access operation has occurred                    \n",
      "WARNING: Illegal reflective access by org.apache.spark.util.SizeEstimator$ (file:/opt/spark-3.5.6-bin-hadoop3/jars/spark-core_2.12-3.5.6.jar) to field java.nio.charset.Charset.name\n",
      "WARNING: Please consider reporting this to the maintainers of org.apache.spark.util.SizeEstimator$\n",
      "WARNING: Use --illegal-access=warn to enable warnings of further illegal reflective access operations\n",
      "WARNING: All illegal access operations will be denied in a future release\n",
      "[Stage 77:>                                                         (0 + 1) / 1]\r"
     ]
    },
    {
     "name": "stdout",
     "output_type": "stream",
     "text": [
      "Random Forest RMSE: 24624.2976\n",
      "Random Forest R²: 0.4558\n",
      "Feature Importances: (10,[0,1,2,3,4,5,6,7,8,9],[0.4790147073653835,0.3444487354194342,0.09395909200951295,0.0014699100208343343,0.019885592865900418,0.015141883605094464,0.030348076324909136,0.0036327841559004475,0.006208999364022691,0.005890218869007941])\n"
     ]
    },
    {
     "name": "stderr",
     "output_type": "stream",
     "text": [
      "                                                                                \r"
     ]
    }
   ],
   "source": [
    "from pyspark.ml.regression import RandomForestRegressor\n",
    "from pyspark.ml.evaluation import RegressionEvaluator\n",
    "\n",
    "# Create the Random Forest Regressor model\n",
    "rf = RandomForestRegressor(\n",
    "    featuresCol=\"features\", \n",
    "    labelCol=\"SALARY\",   \n",
    "    numTrees=300,        \n",
    "    maxDepth=6,          \n",
    "    seed=42\n",
    ")\n",
    "\n",
    "# Train the model on training data\n",
    "rf_model = rf.fit(polyreg_train)\n",
    "\n",
    "# Make predictions on test data\n",
    "rf_predictions = rf_model.transform(polyreg_test)\n",
    "\n",
    "# Evaluate model performance\n",
    "evaluator = RegressionEvaluator(\n",
    "    labelCol=\"SALARY\", \n",
    "    predictionCol=\"prediction\", \n",
    "    metricName=\"rmse\"\n",
    ")\n",
    "\n",
    "rmse = evaluator.evaluate(rf_predictions)\n",
    "r2 = evaluator.evaluate(rf_predictions, {evaluator.metricName: \"r2\"})\n",
    "\n",
    "print(f\"Random Forest RMSE: {rmse:.4f}\")\n",
    "print(f\"Random Forest R²: {r2:.4f}\")\n",
    "\n",
    "\n",
    "print(\"Feature Importances:\", rf_model.featureImportances)"
   ]
  },
  {
   "cell_type": "markdown",
   "id": "c43d50b6",
   "metadata": {},
   "source": [
    "# Feature Importance Plot\n"
   ]
  },
  {
   "cell_type": "code",
   "execution_count": 21,
   "id": "f368680d",
   "metadata": {},
   "outputs": [
    {
     "name": "stderr",
     "output_type": "stream",
     "text": [
      "/tmp/ipykernel_1540/4249483686.py:19: FutureWarning:\n",
      "\n",
      "\n",
      "\n",
      "Passing `palette` without assigning `hue` is deprecated and will be removed in v0.14.0. Assign the `y` variable to `hue` and set `legend=False` for the same effect.\n",
      "\n",
      "\n"
     ]
    },
    {
     "data": {
      "image/png": "[encoded data removed]",
      "text/plain": [
       "<Figure size 2000x1000 with 1 Axes>"
      ]
     },
     "metadata": {},
     "output_type": "display_data"
    },
    {
     "data": {
      "application/vnd.microsoft.datawrangler.viewer.v0+json": {
       "columns": [
        {
         "name": "index",
         "rawType": "int64",
         "type": "integer"
        },
        {
         "name": "Feature",
         "rawType": "object",
         "type": "string"
        },
        {
         "name": "Importance",
         "rawType": "float64",
         "type": "float"
        }
       ],
       "ref": "54448973-f262-4da2-9fad-cd6e20e9e620",
       "rows": [
        [
         "0",
         "MIN_YEARS_EXPERIENCE",
         "0.4790147073653835"
        ],
        [
         "1",
         "MAX_YEARS_EXPERIENCE",
         "0.3444487354194342"
        ],
        [
         "2",
         "DURATION",
         "0.09395909200951295"
        ],
        [
         "6",
         "REMOTE_TYPE_NAME_vec_Remote",
         "0.030348076324909136"
        ],
        [
         "4",
         "COMPANY_IS_STAFFING",
         "0.019885592865900418"
        ],
        [
         "5",
         "REMOTE_TYPE_NAME_vec_[None]",
         "0.015141883605094464"
        ],
        [
         "8",
         "EMPLOYMENT_TYPE_NAME_vec_Full-time (> 32 hours)",
         "0.006208999364022691"
        ],
        [
         "9",
         "EMPLOYMENT_TYPE_NAME_vec_Part-time (â‰¤ 32 hours)",
         "0.005890218869007941"
        ],
        [
         "7",
         "REMOTE_TYPE_NAME_vec_Hybrid Remote",
         "0.0036327841559004475"
        ],
        [
         "3",
         "IS_INTERNSHIP",
         "0.0014699100208343343"
        ]
       ],
       "shape": {
        "columns": 2,
        "rows": 10
       }
      },
      "text/html": [
       "<div>\n",
       "<style scoped>\n",
       "    .dataframe tbody tr th:only-of-type {\n",
       "        vertical-align: middle;\n",
       "    }\n",
       "\n",
       "    .dataframe tbody tr th {\n",
       "        vertical-align: top;\n",
       "    }\n",
       "\n",
       "    .dataframe thead th {\n",
       "        text-align: right;\n",
       "    }\n",
       "</style>\n",
       "<table border=\"1\" class=\"dataframe\">\n",
       "  <thead>\n",
       "    <tr style=\"text-align: right;\">\n",
       "      <th></th>\n",
       "      <th>Feature</th>\n",
       "      <th>Importance</th>\n",
       "    </tr>\n",
       "  </thead>\n",
       "  <tbody>\n",
       "    <tr>\n",
       "      <th>0</th>\n",
       "      <td>MIN_YEARS_EXPERIENCE</td>\n",
       "      <td>0.479015</td>\n",
       "    </tr>\n",
       "    <tr>\n",
       "      <th>1</th>\n",
       "      <td>MAX_YEARS_EXPERIENCE</td>\n",
       "      <td>0.344449</td>\n",
       "    </tr>\n",
       "    <tr>\n",
       "      <th>2</th>\n",
       "      <td>DURATION</td>\n",
       "      <td>0.093959</td>\n",
       "    </tr>\n",
       "    <tr>\n",
       "      <th>6</th>\n",
       "      <td>REMOTE_TYPE_NAME_vec_Remote</td>\n",
       "      <td>0.030348</td>\n",
       "    </tr>\n",
       "    <tr>\n",
       "      <th>4</th>\n",
       "      <td>COMPANY_IS_STAFFING</td>\n",
       "      <td>0.019886</td>\n",
       "    </tr>\n",
       "    <tr>\n",
       "      <th>5</th>\n",
       "      <td>REMOTE_TYPE_NAME_vec_[None]</td>\n",
       "      <td>0.015142</td>\n",
       "    </tr>\n",
       "    <tr>\n",
       "      <th>8</th>\n",
       "      <td>EMPLOYMENT_TYPE_NAME_vec_Full-time (&gt; 32 hours)</td>\n",
       "      <td>0.006209</td>\n",
       "    </tr>\n",
       "    <tr>\n",
       "      <th>9</th>\n",
       "      <td>EMPLOYMENT_TYPE_NAME_vec_Part-time (â‰¤ 32 hours)</td>\n",
       "      <td>0.005890</td>\n",
       "    </tr>\n",
       "    <tr>\n",
       "      <th>7</th>\n",
       "      <td>REMOTE_TYPE_NAME_vec_Hybrid Remote</td>\n",
       "      <td>0.003633</td>\n",
       "    </tr>\n",
       "    <tr>\n",
       "      <th>3</th>\n",
       "      <td>IS_INTERNSHIP</td>\n",
       "      <td>0.001470</td>\n",
       "    </tr>\n",
       "  </tbody>\n",
       "</table>\n",
       "</div>"
      ],
      "text/plain": [
       "                                             Feature  Importance\n",
       "0                               MIN_YEARS_EXPERIENCE    0.479015\n",
       "1                               MAX_YEARS_EXPERIENCE    0.344449\n",
       "2                                           DURATION    0.093959\n",
       "6                        REMOTE_TYPE_NAME_vec_Remote    0.030348\n",
       "4                                COMPANY_IS_STAFFING    0.019886\n",
       "5                        REMOTE_TYPE_NAME_vec_[None]    0.015142\n",
       "8    EMPLOYMENT_TYPE_NAME_vec_Full-time (> 32 hours)    0.006209\n",
       "9  EMPLOYMENT_TYPE_NAME_vec_Part-time (â‰¤ 32 hours)    0.005890\n",
       "7                 REMOTE_TYPE_NAME_vec_Hybrid Remote    0.003633\n",
       "3                                      IS_INTERNSHIP    0.001470"
      ]
     },
     "execution_count": 21,
     "metadata": {},
     "output_type": "execute_result"
    }
   ],
   "source": [
    "import pandas as pd\n",
    "from pandas import DataFrame\n",
    "import seaborn as sns\n",
    "import matplotlib.pyplot as plt\n",
    "import os\n",
    "\n",
    "importances = rf_model.featureImportances.toArray()\n",
    "\n",
    "min_len = min(len(feature_names), len(importances))\n",
    "importance_df = pd.DataFrame({\n",
    "    \"Feature\": feature_names[:min_len],\n",
    "    \"Importance\": importances[:min_len]\n",
    "})\n",
    "\n",
    "top10 = importance_df.sort_values(by=\"Importance\", ascending=False).head(10)\n",
    "\n",
    "# Plot\n",
    "plt.figure(figsize=(20, 10))\n",
    "sns.barplot(x=\"Importance\", y=\"Feature\", data=top10, palette=\"viridis\")\n",
    "plt.title(\"Top 10 Most Important Features - Random Forest\")\n",
    "plt.xlabel(\"Feature Importance\")\n",
    "plt.ylabel(\"Feature Name\")\n",
    "plt.tight_layout()\n",
    "\n",
    "# Used AI to help me display dataframe as I was getting the error for length mismatch (See Appendix 1 in AI_Prompts.qmd)\n",
    "# Matching lengths to make sure dataframe correctly renders\n",
    "min_len = min(len(feature_names), len(importances))\n",
    "feature_names, importances = feature_names[:min_len], importances[:min_len]\n",
    "\n",
    "featureimportanceplot_df= pd.DataFrame({\n",
    "    \"Feature\": feature_names,\n",
    "    \"Importance\": importances\n",
    "}).sort_values(by=\"Importance\", ascending=False)\n",
    "\n",
    "featureimportanceplot_df = featureimportanceplot_df.head(10)\n",
    "\n",
    "# Save and show\n",
    "plt.savefig(\"_output/rf_feature_importance.png\", dpi=300)\n",
    "plt.show()\n",
    "featureimportanceplot_df"
   ]
  },
  {
   "cell_type": "markdown",
   "id": "e2db7c9c",
   "metadata": {},
   "source": [
    "# Compare 3 Models - GLR,  Polynomial, RF\n"
   ]
  },
  {
   "cell_type": "code",
   "execution_count": 22,
   "id": "cf75d4a3",
   "metadata": {},
   "outputs": [
    {
     "name": "stderr",
     "output_type": "stream",
     "text": [
      "                                                                                \r"
     ]
    },
    {
     "name": "stdout",
     "output_type": "stream",
     "text": [
      "Model Comparison Metrics:\n",
      "            Model          RMSE           AIC           BIC\n",
      "0             GLR  27838.376618  52299.848476  45995.361481\n",
      "1  Polynomial GLR  27838.376618  52299.848476  45995.361481\n",
      "2   Random Forest  24624.297584           NaN   8047.865121\n"
     ]
    },
    {
     "name": "stderr",
     "output_type": "stream",
     "text": [
      "                                                                                \r"
     ]
    },
    {
     "data": {
      "image/png": "[encoded data removed]",
      "text/plain": [
       "<Figure size 1200x1000 with 4 Axes>"
      ]
     },
     "metadata": {},
     "output_type": "display_data"
    }
   ],
   "source": [
    "from pyspark.ml.evaluation import RegressionEvaluator\n",
    "import pandas as pd\n",
    "import numpy as np\n",
    "import seaborn as sns\n",
    "import matplotlib.pyplot as plt\n",
    "\n",
    "# Predictions for each model\n",
    "glr_predictions = glr_model.transform(regression_data)\n",
    "poly_predictions = poly_glr_max_years_model.transform(poly_data)\n",
    "rf_predictions = rf_model.transform(polyreg_test)\n",
    "\n",
    "# RMSE for each model\n",
    "evaluator = RegressionEvaluator(labelCol=\"SALARY\", predictionCol=\"prediction\", metricName=\"rmse\")\n",
    "\n",
    "glr_rmse = evaluator.evaluate(glr_predictions)\n",
    "poly_rmse = evaluator.evaluate(poly_predictions)\n",
    "rf_rmse = evaluator.evaluate(rf_predictions)\n",
    "\n",
    "# AIC and BIC for each Model\n",
    "# AIC is already available in the summary for GLR models\n",
    "glr_aic = summary.aic\n",
    "poly_aic = poly_summary.aic\n",
    "\n",
    "# Manual BIC calculation\n",
    "def calculate_bic(n, mse, k):\n",
    "    return n * np.log(mse) + k * np.log(n)\n",
    "\n",
    "# Count observations and parameters\n",
    "n_glr = glr_predictions.count()\n",
    "n_poly = poly_predictions.count()\n",
    "n_rf = rf_predictions.count()\n",
    "\n",
    "# Compute mean squared error (for BIC)\n",
    "glr_mse = glr_rmse**2\n",
    "poly_mse = poly_rmse**2\n",
    "rf_mse = rf_rmse**2\n",
    "\n",
    "# Number of parameters (approx: # features + intercept)\n",
    "k_glr = len(glr_model.coefficients) + 1\n",
    "k_poly = len(poly_glr_max_years_model.coefficients) + 1\n",
    "k_rf = len(rf_model.featureImportances)\n",
    "\n",
    "# Compute BIC\n",
    "glr_bic = calculate_bic(n_glr, glr_mse, k_glr)\n",
    "poly_bic = calculate_bic(n_poly, poly_mse, k_poly)\n",
    "rf_bic = calculate_bic(n_rf, rf_mse, k_rf)\n",
    "\n",
    "# Summarized model metrics\n",
    "metrics_df = pd.DataFrame({\n",
    "    \"Model\": [\"GLR\", \"Polynomial GLR\", \"Random Forest\"],\n",
    "    \"RMSE\": [glr_rmse, poly_rmse, rf_rmse],\n",
    "    \"AIC\": [glr_aic, poly_aic, np.nan],  # AIC not standard for RF\n",
    "    \"BIC\": [glr_bic, poly_bic, rf_bic]\n",
    "})\n",
    "\n",
    "print(\"Model Comparison Metrics:\")\n",
    "print(metrics_df)\n",
    "\n",
    "# Pandas DataFrame for visualization\n",
    "glr_pd = glr_predictions.select(\"SALARY\", \"prediction\").toPandas().assign(Model=\"GLR\")\n",
    "poly_pd = poly_predictions.select(\"SALARY\", \"prediction\").toPandas().assign(Model=\"Polynomial\")\n",
    "rf_pd = rf_predictions.select(\"SALARY\", \"prediction\").toPandas().assign(Model=\"Random Forest\")\n",
    "\n",
    "combined_pd = pd.concat([glr_pd, poly_pd, rf_pd])\n",
    "\n",
    "# Plot Actual vs Predicted in a 2x2 grid ---\n",
    "sns.set(style=\"whitegrid\", context=\"notebook\")\n",
    "fig, axes = plt.subplots(2, 2, figsize=(12, 10))\n",
    "\n",
    "models = [\"GLR\", \"Polynomial\", \"Random Forest\"]\n",
    "for i, model in enumerate(models):\n",
    "    ax = axes.flat[i]\n",
    "    subset = combined_pd[combined_pd[\"Model\"] == model]\n",
    "    sns.scatterplot(x=\"SALARY\", y=\"prediction\", data=subset, alpha=0.6, ax=ax)\n",
    "    sns.lineplot(x=subset[\"SALARY\"], y=subset[\"SALARY\"], color=\"red\", ax=ax, label=\"Ideal Fit\")\n",
    "    ax.set_title(f\"{model}: Actual vs Predicted\")\n",
    "    ax.set_xlabel(\"Actual Salary\")\n",
    "    ax.set_ylabel(\"Predicted Salary\")\n",
    "\n",
    "# Hide the 4th empty subplot\n",
    "axes.flat[-1].axis('off')\n",
    "\n",
    "plt.tight_layout()\n",
    "plt.show()"
   ]
  },
  {
   "cell_type": "markdown",
   "id": "3d6c0b49",
   "metadata": {},
   "source": [
    "# Calcutlating Log-Likelihood and BIC for Pyspark Models\n"
   ]
  },
  {
   "cell_type": "code",
   "execution_count": 23,
   "id": "2b58ec46",
   "metadata": {},
   "outputs": [
    {
     "name": "stderr",
     "output_type": "stream",
     "text": [
      "[Stage 96:>                                                         (0 + 1) / 1]\r"
     ]
    },
    {
     "name": "stdout",
     "output_type": "stream",
     "text": [
      "GLR BIC: 52360.7468\n",
      "Polynomial GLR BIC: 52360.7468\n"
     ]
    },
    {
     "name": "stderr",
     "output_type": "stream",
     "text": [
      "                                                                                \r"
     ]
    }
   ],
   "source": [
    "import numpy as np\n",
    "\n",
    "def log_likelihood(n, deviance, dispersion):\n",
    "    \"\"\"\n",
    "    Compute log-likelihood for GLR (Gaussian / identity link)\n",
    "    Formula: -0.5 * (n*log(2*pi) + n*log(dispersion) + deviance/dispersion)\n",
    "    \"\"\"\n",
    "    return -0.5 * (n * np.log(2 * np.pi) + n * np.log(dispersion) + deviance / dispersion)\n",
    "\n",
    "def bic(n, k, ll):\n",
    "    \"\"\"\n",
    "    Compute BIC\n",
    "    BIC = k * log(n) - 2 * log-likelihood\n",
    "    \"\"\"\n",
    "    return k * np.log(n) - 2 * ll\n",
    "\n",
    "# --- GLR Model ---\n",
    "n_glr = glr_predictions.count()\n",
    "deviance_glr = summary.deviance\n",
    "dispersion_glr = deviance_glr / summary.residualDegreeOfFreedom\n",
    "ll_glr = log_likelihood(n_glr, deviance_glr, dispersion_glr)\n",
    "k_glr = len(glr_model.coefficients) + 1  # coefficients + intercept\n",
    "bic_glr = bic(n_glr, k_glr, ll_glr)\n",
    "\n",
    "# --- Polynomial GLR Model ---\n",
    "n_poly = poly_predictions.count()\n",
    "deviance_poly = poly_summary.deviance\n",
    "dispersion_poly = deviance_poly / poly_summary.residualDegreeOfFreedom\n",
    "ll_poly = log_likelihood(n_poly, deviance_poly, dispersion_poly)\n",
    "k_poly = len(poly_glr_max_years_model.coefficients) + 1\n",
    "bic_poly = bic(n_poly, k_poly, ll_poly)\n",
    "\n",
    "print(f\"GLR BIC: {bic_glr:.4f}\")\n",
    "print(f\"Polynomial GLR BIC: {bic_poly:.4f}\")"
   ]
  }
 ],
 "metadata": {
  "kernelspec": {
   "display_name": ".venv",
   "language": "python",
   "name": "python3"
  },
  "language_info": {
   "codemirror_mode": {
    "name": "ipython",
    "version": 3
   },
   "file_extension": ".py",
   "mimetype": "text/x-python",
   "name": "python",
   "nbconvert_exporter": "python",
   "pygments_lexer": "ipython3",
   "version": "3.12.3"
  }
 },
 "nbformat": 4,
 "nbformat_minor": 5
}
