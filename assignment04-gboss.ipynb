{
  "cells": [
    {
      "cell_type": "raw",
      "id": "a8cca8a6",
      "metadata": {
        "vscode": {
          "languageId": "raw"
        }
      },
      "source": [
        "---\n",
        "title: Assignment 04\n",
        "author:\n",
        "  - name: Gavin Boss\n",
        "    affiliations:\n",
        "      - id: bu\n",
        "        name: Boston University\n",
        "        city: Boston\n",
        "        state: MA\n",
        "number-sections: true\n",
        "date: '2025-10-04'\n",
        "date-modified: today\n",
        "date-format: long\n",
        "format:\n",
        "  html:\n",
        "    theme: cerulean\n",
        "    toc: true\n",
        "    toc-depth: 2\n",
        "\n",
        "execute:\n",
        "  echo: false\n",
        "  eval: True\n",
        "  freeze: auto\n",
        "---"
      ]
    },
    {
      "cell_type": "markdown",
      "id": "5b87455c",
      "metadata": {},
      "source": [
        "# Load the Dataset\n"
      ]
    },
    {
      "cell_type": "code",
      "execution_count": 1,
      "id": "91cd3da8",
      "metadata": {},
      "outputs": [
        {
          "name": "stderr",
          "output_type": "stream",
          "text": [
            "Setting default log level to \"WARN\".\n",
            "To adjust logging level use sc.setLogLevel(newLevel). For SparkR, use setLogLevel(newLevel).\n",
            "25/10/07 01:47:11 WARN NativeCodeLoader: Unable to load native-hadoop library for your platform... using builtin-java classes where applicable\n",
            "                                                                                \r"
          ]
        }
      ],
      "source": [
        "from pyspark.sql import SparkSession\n",
        "import pandas as pd\n",
        "import plotly.express as px\n",
        "import plotly.io as pio\n",
        "import numpy as np\n",
        "\n",
        "np.random.seed(42)\n",
        "\n",
        "pio.renderers.default = \"notebook+notebook_connected+vscode\"\n",
        "\n",
        "# Initialize Spark Session\n",
        "spark = SparkSession.builder.appName(\"LightcastData\").getOrCreate()\n",
        "\n",
        "# Load Data\n",
        "df = spark.read.option(\"header\", \"true\").option(\"inferSchema\", \"true\").option(\"multiLine\",\"true\").option(\"escape\", \"\\\"\").csv(\"data/lightcast_job_postings.csv\")\n",
        "\n",
        "# Show Schema and Sample Data\n",
        "# print(\"---This is Diagnostic check, No need to print it in the final doc---\")\n",
        "\n",
        "# df.printSchema() # comment this line when rendering the submission\n",
        "# df.show(5)"
      ]
    },
    {
      "cell_type": "markdown",
      "id": "225b52a5",
      "metadata": {},
      "source": [
        "\n",
        "# Feature Engineering"
      ]
    },
    {
      "cell_type": "code",
      "execution_count": 2,
      "id": "fb3e5360",
      "metadata": {},
      "outputs": [
        {
          "name": "stderr",
          "output_type": "stream",
          "text": [
            "                                                                                \r"
          ]
        },
        {
          "name": "stdout",
          "output_type": "stream",
          "text": [
            "+------+--------------------------------------+--------------------------------------+\n",
            "|SALARY|features                              |features_poly                         |\n",
            "+------+--------------------------------------+--------------------------------------+\n",
            "|192800|(9,[0,1,4,7],[6.0,55.0,1.0,1.0])      |(9,[0,1,4,7],[6.0,55.0,1.0,1.0])      |\n",
            "|125900|(9,[0,1,4,7],[12.0,18.0,1.0,1.0])     |(9,[0,1,4,7],[12.0,18.0,1.0,1.0])     |\n",
            "|118560|[5.0,20.0,0.0,1.0,0.0,1.0,0.0,1.0,0.0]|[5.0,20.0,0.0,1.0,0.0,1.0,0.0,1.0,0.0]|\n",
            "|192800|(9,[0,1,4,7],[6.0,55.0,1.0,1.0])      |(9,[0,1,4,7],[6.0,55.0,1.0,1.0])      |\n",
            "|116500|(9,[0,1,4,7],[12.0,16.0,1.0,1.0])     |(9,[0,1,4,7],[12.0,16.0,1.0,1.0])     |\n",
            "+------+--------------------------------------+--------------------------------------+\n",
            "only showing top 5 rows\n",
            "\n"
          ]
        },
        {
          "name": "stderr",
          "output_type": "stream",
          "text": [
            "25/10/07 01:47:46 WARN SparkStringUtils: Truncated the string representation of a plan since it was too large. This behavior can be adjusted by setting 'spark.sql.debug.maxToStringFields'.\n",
            "                                                                                \r"
          ]
        },
        {
          "name": "stdout",
          "output_type": "stream",
          "text": [
            "Training Data Count: 11604\n"
          ]
        },
        {
          "name": "stderr",
          "output_type": "stream",
          "text": [
            "[Stage 12:>                                                         (0 + 1) / 1]\r"
          ]
        },
        {
          "name": "stdout",
          "output_type": "stream",
          "text": [
            "Testing Data Count: 2812\n"
          ]
        },
        {
          "name": "stderr",
          "output_type": "stream",
          "text": [
            "                                                                                \r"
          ]
        }
      ],
      "source": [
        "#| eval: true\n",
        "#| echo: false\n",
        "#| fig-align: center\n",
        "\n",
        "from pyspark.sql.functions import col, pow\n",
        "from pyspark.ml.feature import StringIndexer, OneHotEncoder, VectorAssembler\n",
        "from pyspark.ml import Pipeline\n",
        "\n",
        "# Drop Missing Values in target variable and key features\n",
        "\n",
        "df = df.dropna(subset=[\n",
        "    \"SALARY\", \"MIN_YEARS_EXPERIENCE\",\"EMPLOYMENT_TYPE_NAME\",\"REMOTE_TYPE_NAME\",\n",
        "    \"DURATION\", \"IS_INTERNSHIP\",\"COMPANY_IS_STAFFING\", \"STATE_NAME\", \"MIN_EDULEVELS_NAME\"\n",
        "])\n",
        "\n",
        "# Selecting 2 categorical variables\n",
        "categorical_cols =[\n",
        "    \"REMOTE_TYPE_NAME\", \"EMPLOYMENT_TYPE_NAME\"\n",
        "]\n",
        "\n",
        "#Index and One-Hot encode\n",
        "indexers = [StringIndexer(inputCol=col, outputCol=f\"{col}_idx\", handleInvalid='skip') for col in categorical_cols]\n",
        "encoders = [OneHotEncoder(inputCol=f\"{col}_idx\", outputCol=f\"{col}_vec\") for col in categorical_cols]\n",
        "\n",
        "# Assemble base features (for GLR and Random Forrest)\n",
        "from pyspark.sql.functions import col, pow\n",
        "from pyspark.ml.feature import StringIndexer, OneHotEncoder, VectorAssembler\n",
        "from pyspark.ml import Pipeline\n",
        "\n",
        "assembler = VectorAssembler(\n",
        "    inputCols=[\n",
        "        \"MIN_YEARS_EXPERIENCE\", \"DURATION\",\n",
        "        \"IS_INTERNSHIP\", \"COMPANY_IS_STAFFING\"\n",
        "    ] + [f\"{col}_vec\" for col in categorical_cols],\n",
        "    outputCol=\"features\"\n",
        ")\n",
        "\n",
        "# Build pipeline and transform\n",
        "pipeline = Pipeline(stages=indexers + encoders + [assembler])\n",
        "data = pipeline.fit(df).transform(df)\n",
        "\n",
        "# Create squared term for Polynomical Regression\n",
        "data = data.withColumn(\"MIN_YEARS_EXPERIENCE_SQ\", pow(col(\"MIN_YEARS_EXPERIENCE\"),2))\n",
        "\n",
        "#Assemble polynomial features\n",
        "assembler_poly = VectorAssembler(\n",
        "    inputCols=[\n",
        "        \"MIN_YEARS_EXPERIENCE\", \"DURATION\",\n",
        "        \"IS_INTERNSHIP\", \"COMPANY_IS_STAFFING\"\n",
        "    ] + [f\"{col}_vec\" for col in categorical_cols],\n",
        "    outputCol=\"features_poly\"\n",
        ")\n",
        "\n",
        "data = assembler_poly.transform(data)\n",
        "\n",
        "data.select(\"SALARY\",\"features\", \"features_poly\").show(5, truncate=False)\n",
        "\n",
        "# Split into training and testing sets (80% training, 20% testing)\n",
        "train_data, test_data = data.randomSplit([0.8, 0.2], seed=42)\n",
        "\n",
        "# Check number of records in each\n",
        "print(\"Training Data Count:\", train_data.count())\n",
        "print(\"Testing Data Count:\", test_data.count())\n",
        "\n"
      ]
    },
    {
      "cell_type": "markdown",
      "id": "a6183ba4",
      "metadata": {},
      "source": [
        "# Train/Test Split"
      ]
    },
    {
      "cell_type": "code",
      "execution_count": 6,
      "id": "c122a24a",
      "metadata": {},
      "outputs": [
        {
          "name": "stderr",
          "output_type": "stream",
          "text": [
            "                                                                                \r"
          ]
        },
        {
          "name": "stdout",
          "output_type": "stream",
          "text": [
            "Training Data Count: 11604\n"
          ]
        },
        {
          "name": "stderr",
          "output_type": "stream",
          "text": [
            "                                                                                \r"
          ]
        },
        {
          "name": "stdout",
          "output_type": "stream",
          "text": [
            "Testing Data Count: 2812\n"
          ]
        },
        {
          "name": "stderr",
          "output_type": "stream",
          "text": [
            "                                                                                \r"
          ]
        },
        {
          "name": "stdout",
          "output_type": "stream",
          "text": [
            "(2243, 14)\n"
          ]
        },
        {
          "name": "stderr",
          "output_type": "stream",
          "text": [
            "                                                                                \r"
          ]
        },
        {
          "name": "stdout",
          "output_type": "stream",
          "text": [
            "(1848, 14)\n"
          ]
        },
        {
          "name": "stderr",
          "output_type": "stream",
          "text": [
            "[Stage 41:>                                                         (0 + 1) / 1]\r"
          ]
        },
        {
          "name": "stdout",
          "output_type": "stream",
          "text": [
            "(395, 14)\n"
          ]
        },
        {
          "name": "stderr",
          "output_type": "stream",
          "text": [
            "                                                                                \r"
          ]
        }
      ],
      "source": [
        "# Split into training and testing sets\n",
        "train_data, test_data = data.randomSplit([0.8, 0.2], seed=42)\n",
        "\n",
        "# Check number of records in each\n",
        "print(\"Training Data Count:\", train_data.count())\n",
        "print(\"Testing Data Count:\", test_data.count())\n",
        "\n",
        "# Split Data\n",
        "regression_train, regression_test = regression_data.randomSplit([0.8, 0.2], seed=42)\n",
        "print((regression_data.count(), len(regression_data.columns)))\n",
        "print((regression_train.count(), len(regression_train.columns)))\n",
        "print((regression_test.count(), len(regression_test.columns)))\n",
        "\n"
      ]
    },
    {
      "cell_type": "markdown",
      "id": "fe8bba7d",
      "metadata": {},
      "source": [
        "I chose the 80/20 split after consulting with AI (CHATGPT SEE APPENDIX 1) basing it on the widely accepted standard for machine learning, which is good for model effectiveness and performance."
      ]
    },
    {
      "cell_type": "markdown",
      "id": "f1ba7a6d",
      "metadata": {},
      "source": [
        "# Regression_DF"
      ]
    },
    {
      "cell_type": "code",
      "execution_count": 4,
      "id": "fd91fb7e",
      "metadata": {},
      "outputs": [
        {
          "name": "stdout",
          "output_type": "stream",
          "text": [
            "+------+--------------------+--------------------+--------+-------------+-------------------+----------------+----------------------+------------------------------------------------------------------------------------+\n",
            "|SALARY|MIN_YEARS_EXPERIENCE|MAX_YEARS_EXPERIENCE|DURATION|IS_INTERNSHIP|COMPANY_IS_STAFFING|REMOTE_TYPE_NAME|EMPLOYMENT_TYPE_NAME  |EDUCATION_LEVELS_NAME                                                               |\n",
            "+------+--------------------+--------------------+--------+-------------+-------------------+----------------+----------------------+------------------------------------------------------------------------------------+\n",
            "|131100|2                   |2                   |11      |false        |false              |[None]          |Full-time (> 32 hours)|[\\n  \"Bachelor's degree\"\\n]                                                         |\n",
            "|136950|3                   |3                   |28      |false        |false              |Remote          |Full-time (> 32 hours)|[\\n  \"Bachelor's degree\",\\n  \"Master's degree\",\\n  \"Ph D  or professional degree\"\\n]|\n",
            "|136950|3                   |3                   |28      |false        |false              |Remote          |Full-time (> 32 hours)|[\\n  \"Bachelor's degree\",\\n  \"Master's degree\",\\n  \"Ph D  or professional degree\"\\n]|\n",
            "|104000|3                   |3                   |8       |false        |false              |[None]          |Full-time (> 32 hours)|[\\n  \"Bachelor's degree\"\\n]                                                         |\n",
            "|80000 |3                   |3                   |37      |false        |false              |[None]          |Full-time (> 32 hours)|[\\n  \"Bachelor's degree\"\\n]                                                         |\n",
            "+------+--------------------+--------------------+--------+-------------+-------------------+----------------+----------------------+------------------------------------------------------------------------------------+\n",
            "only showing top 5 rows\n",
            "\n"
          ]
        }
      ],
      "source": [
        "from pyspark.sql.functions import regexp_replace, trim, col\n",
        "\n",
        "regression_df = df.select(\n",
        "    \"SALARY\",\n",
        "    \"MIN_YEARS_EXPERIENCE\",\n",
        "    \"MAX_YEARS_EXPERIENCE\",\n",
        "    \"DURATION\",\n",
        "    \"IS_INTERNSHIP\",\n",
        "    \"COMPANY_IS_STAFFING\",\n",
        "    \"REMOTE_TYPE_NAME\",\n",
        "    \"EMPLOYMENT_TYPE_NAME\",\n",
        "    \"EDUCATION_LEVELS_NAME\"\n",
        ")\n",
        "\n",
        "regression_df = regression_df.withColumn(\n",
        "    \"EDUCATION_LEVELS_NAME\",\n",
        "    trim(regexp_replace(col(\"EDUCATION_LEVELS_NAME\"), r\"[\\.\\-]\", \" \"))\n",
        ")\n",
        "\n",
        "regression_df = regression_df.dropna(subset=[\n",
        "    \"SALARY\",\n",
        "    \"MIN_YEARS_EXPERIENCE\",\n",
        "    \"MAX_YEARS_EXPERIENCE\",\n",
        "    \"DURATION\",\n",
        "    \"IS_INTERNSHIP\",\n",
        "    \"COMPANY_IS_STAFFING\",\n",
        "    \"REMOTE_TYPE_NAME\",\n",
        "    \"EMPLOYMENT_TYPE_NAME\",\n",
        "    \"EDUCATION_LEVELS_NAME\"\n",
        "])\n",
        "\n",
        "regression_df.show(5, truncate=False)"
      ]
    },
    {
      "cell_type": "markdown",
      "id": "6fa381e1",
      "metadata": {},
      "source": [
        "# Linear Regression Model (OLS)"
      ]
    },
    {
      "cell_type": "code",
      "execution_count": 5,
      "id": "3d49a54f",
      "metadata": {},
      "outputs": [
        {
          "name": "stderr",
          "output_type": "stream",
          "text": [
            "                                                                                \r"
          ]
        },
        {
          "name": "stdout",
          "output_type": "stream",
          "text": [
            "+------+---------------------------------------+\n",
            "|SALARY|features                               |\n",
            "+------+---------------------------------------+\n",
            "|131100|(10,[0,1,2,5,8],[2.0,2.0,11.0,1.0,1.0])|\n",
            "|136950|(10,[0,1,2,6,8],[3.0,3.0,28.0,1.0,1.0])|\n",
            "|136950|(10,[0,1,2,6,8],[3.0,3.0,28.0,1.0,1.0])|\n",
            "|104000|(10,[0,1,2,5,8],[3.0,3.0,8.0,1.0,1.0]) |\n",
            "|80000 |(10,[0,1,2,5,8],[3.0,3.0,37.0,1.0,1.0])|\n",
            "+------+---------------------------------------+\n",
            "only showing top 5 rows\n",
            "\n"
          ]
        }
      ],
      "source": [
        "\n",
        "from pyspark.sql.functions import regexp_replace, trim\n",
        "\n",
        "regression_df = regression_df.withColumn(\"EDUCATION_LEVELS_NAME\", trim(regexp_replace(col(\"EDUCATION_LEVELS_NAME\"), r\"[\\.\\-]\", \" \")))\n",
        "\n",
        "# Index and One-Hot Encode\n",
        "indexers = [StringIndexer(inputCol=col, outputCol=f\"{col}_idx\", handleInvalid='skip') for col in categorical_cols]\n",
        "encoders = [OneHotEncoder(inputCol=f\"{col}_idx\", outputCol=f\"{col}_vec\") for col in categorical_cols]\n",
        "\n",
        "# Assemble base features (for GLR and Random Forrest)\n",
        "assembler = VectorAssembler(\n",
        "    inputCols=[\n",
        "        \"MIN_YEARS_EXPERIENCE\", \"MAX_YEARS_EXPERIENCE\", \"DURATION\",\n",
        "        \"IS_INTERNSHIP\", \"COMPANY_IS_STAFFING\"\n",
        "    ] + [f\"{col}_vec\" for col in categorical_cols],\n",
        "    outputCol=\"features\"\n",
        ")\n",
        "\n",
        "pipeline_reg = Pipeline(stages=indexers + encoders + [assembler])\n",
        "regression_data = pipeline_reg.fit(regression_df).transform(regression_df)\n",
        "\n",
        "regression_data.select(\"SALARY\",\"features\").show(5, truncate=False)\n",
        "\n"
      ]
    }
  ],
  "metadata": {
    "kernelspec": {
      "display_name": ".venv",
      "language": "python",
      "name": "python3"
    },
    "language_info": {
      "codemirror_mode": {
        "name": "ipython",
        "version": 3
      },
      "file_extension": ".py",
      "mimetype": "text/x-python",
      "name": "python",
      "nbconvert_exporter": "python",
      "pygments_lexer": "ipython3",
      "version": "3.12.3"
    }
  },
  "nbformat": 4,
  "nbformat_minor": 5
}
